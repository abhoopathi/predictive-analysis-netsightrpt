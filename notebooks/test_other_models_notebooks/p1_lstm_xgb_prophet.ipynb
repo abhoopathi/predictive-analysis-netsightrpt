{
 "cells": [
  {
   "cell_type": "markdown",
   "metadata": {},
   "source": [
    "# App Response time per application per source (P1)"
   ]
  },
  {
   "cell_type": "markdown",
   "metadata": {},
   "source": [
    "Here we testing the different models for the p1 report with latest architecture (aggregated data to one day)"
   ]
  },
  {
   "cell_type": "markdown",
   "metadata": {},
   "source": [
    "## Data preperation"
   ]
  },
  {
   "cell_type": "code",
   "execution_count": 1,
   "metadata": {},
   "outputs": [],
   "source": [
    "\n",
    "from pyspark.sql import SQLContext\n",
    "import sys\n",
    "from pyspark.context import SparkContext\n",
    "from pyspark.sql.session import SparkSession\n",
    "\n",
    "\n",
    "from pyspark.sql import SparkSession\n",
    "import pymysql\n",
    "from tqdm import tqdm\n",
    "import config\n",
    "\n",
    "# initialise sparkContext\n",
    "spark1 = SparkSession.builder \\\n",
    "        .master(config.sp_master) \\\n",
    "        .appName(config.sp_appname) \\\n",
    "        .config('spark.executor.memory', config.sp_memory) \\\n",
    "        .config(\"spark.cores.max\", config.sp_cores) \\\n",
    "        .getOrCreate()\n",
    "    \n",
    "sc = spark1.sparkContext\n",
    "\n",
    "# using SQLContext to read parquet file\n",
    "sqlContext = SQLContext(sc)"
   ]
  },
  {
   "cell_type": "code",
   "execution_count": 2,
   "metadata": {},
   "outputs": [],
   "source": [
    "df = sqlContext.read.parquet('./../datas/appid_datapoint_parquet1')"
   ]
  },
  {
   "cell_type": "code",
   "execution_count": 3,
   "metadata": {},
   "outputs": [],
   "source": [
    "ap_list = ['DNS', 'DHCP', 'Radius', 'Kerberos', 'LDAP']\n",
    "s_list  = ['10.6.1.101','134.141.5.104']"
   ]
  },
  {
   "cell_type": "markdown",
   "metadata": {},
   "source": [
    "# Prophet model"
   ]
  },
  {
   "cell_type": "code",
   "execution_count": 4,
   "metadata": {},
   "outputs": [],
   "source": [
    "import pandas as pd\n",
    "import pymysql\n",
    "import warnings\n",
    "warnings.filterwarnings(\"ignore\")\n",
    "from datetime import datetime, timedelta\n",
    "import logging\n",
    "from joblib import Parallel, delayed\n",
    "from fbprophet import Prophet\n",
    "from sklearn.metrics import mean_squared_error as mse\n",
    "import math\n",
    "\n",
    "\n",
    "def connect_to_mysql():\n",
    "    connection = pymysql.connect(host = config.db_host,\n",
    "                            port= config.db_port,\n",
    "                            user= config.db_user,\n",
    "                            password= config.db_pass,\n",
    "                            db= config.db_name,\n",
    "                            charset='utf8',\n",
    "                            cursorclass=pymysql.cursors.DictCursor)\n",
    "    return connection\n"
   ]
  },
  {
   "cell_type": "markdown",
   "metadata": {},
   "source": [
    "### Prophet model train and forecast funtion"
   ]
  },
  {
   "cell_type": "code",
   "execution_count": 5,
   "metadata": {},
   "outputs": [],
   "source": [
    "def create_prophet_m(app_name,z1,delay=24):\n",
    "    \n",
    "    ### --- For realtime pred ---###\n",
    "    \n",
    "    full_df = z1.app_rsp_time.iloc[0:len(z1)]\n",
    "    full_df = full_df.reset_index()\n",
    "    full_df.columns = ['ds','y']\n",
    "    \n",
    "    #removing outliers\n",
    "    q50 = full_df.y.median()\n",
    "    q100 = full_df.y.quantile(1)\n",
    "    q75  = full_df.y.quantile(.75)\n",
    "    \n",
    "    if((q100-q50) >= (2*q75)):\n",
    "        \n",
    "        full_df.loc[full_df.y>=(2*q75),'y'] = 2*q75\n",
    "    \n",
    "    if(len(full_df.dropna())>=10):\n",
    "        \n",
    "        #-- Realtime prediction --##\n",
    "        #model \n",
    "        model_r = Prophet(yearly_seasonality=False,changepoint_prior_scale=.1,seasonality_prior_scale=0.05)\n",
    "        model_r.fit(full_df)\n",
    "        future_r = model_r.make_future_dataframe(periods=delay,freq='D')\n",
    "        forecast_r = model_r.predict(future_r)\n",
    "        forecast_r.index = forecast_r['ds']\n",
    "        #forecast \n",
    "        pred_r = pd.DataFrame(forecast_r['yhat'][len(z1):(len(z1)+delay)])\n",
    "        pred_r=pred_r.reset_index()\n",
    "        #--- completes realtime pred ---#\n",
    "\n",
    "    #----- validation ----#    \n",
    "    train_end_index=len(z1.app_rsp_time)-delay\n",
    "    train_df=z1.app_rsp_time.iloc[0:train_end_index]\n",
    "    \n",
    "    test_df=z1.app_rsp_time.iloc[train_end_index:len(z1)]\n",
    "    \n",
    "    train_df=train_df.reset_index()\n",
    "    test_df=test_df.reset_index()\n",
    "    train_df.columns=['ds','y']\n",
    "    \n",
    "    #--- removing outliers in trainset  ---#\n",
    "    \n",
    "    q50 = train_df.y.median()\n",
    "    q100 = train_df.y.quantile(1)\n",
    "    q75  = train_df.y.quantile(.75)\n",
    "    \n",
    "    if((q100-q50) >= (2*q75)):\n",
    "        \n",
    "        train_df.loc[train_df.y>=(2*q75),'y'] = 2*q75\n",
    "        \n",
    "    if(len(train_df.dropna())>=10):\n",
    "    \n",
    "        test_df.columns=['ds','y']\n",
    "        test_df['ds'] = pd.to_datetime(test_df['ds'])\n",
    "        \n",
    "        #model \n",
    "        model = Prophet(yearly_seasonality=False,changepoint_prior_scale=.1,seasonality_prior_scale=0.05)\n",
    "        model.fit(train_df)\n",
    "    \n",
    "        future = model.make_future_dataframe(periods=len(test_df),freq='D')\n",
    "        forecast = model.predict(future)\n",
    "        forecast.index = forecast['ds']\n",
    "        #forecast \n",
    "        pred = pd.DataFrame(forecast['yhat'][train_end_index:len(z1)])\n",
    "        pred=pred.reset_index()\n",
    "        pred_df=pd.merge(test_df,pred,on='ds',how='left')\n",
    "        pred_df.dropna(inplace=True)\n",
    "        \n",
    "        df=pd.DataFrame()\n",
    "    \n",
    "    \n",
    "        \n",
    "        if(len(pred_df)>0):\n",
    "            \n",
    "            pred_df['error_test']=pred_df.y-pred_df.yhat\n",
    "        \n",
    "            \n",
    "        \n",
    "            MSE=mse(pred_df.y,pred_df.yhat)\n",
    "            RMSE=math.sqrt(MSE)\n",
    "            pred_df['APE']=abs(pred_df.error_test*100/pred_df.y)\n",
    "            MAPE=pred_df.APE.mean()\n",
    "            min_error_rate = pred_df['APE'].quantile(0)/100\n",
    "            max_error_rate = pred_df['APE'].quantile(1)/100\n",
    "            median_error_rate = pred_df['APE'].quantile(.50)/100\n",
    "            print(\"App name:\",app_name)\n",
    "            #print(\"MSE  :\",MSE)\n",
    "            print(\"RMSE :\",RMSE)\n",
    "            print(\"MAPE :\",MAPE)\n",
    "            \n",
    "           \n",
    "            mape_q98=pred_df['APE'][pred_df.APE<pred_df['APE'].quantile(0.98)].mean()\n",
    "            std_MAPE = math.sqrt(((pred_df.APE-MAPE)**2).mean())\n",
    "    \n",
    "            df = pd.DataFrame({'length':len(z1),\n",
    "                                 'test_rmse':RMSE,\n",
    "                                 'test_mape':MAPE,\n",
    "                                 'std_mape':std_MAPE, #standerd deviation of mape\n",
    "                                 'min_error_rate':min_error_rate ,\n",
    "                                 'max_error_rate':max_error_rate ,\n",
    "                                 'median_error_rate':median_error_rate,\n",
    "                     \n",
    "                     'test_mape_98':mape_q98},\n",
    "                       \n",
    "                              index=[app_name])\n",
    "\n",
    "    return(df,model,forecast,pred_df,pred_r)\n"
   ]
  },
  {
   "cell_type": "markdown",
   "metadata": {},
   "source": [
    "### Function to select a combination , data preperation"
   ]
  },
  {
   "cell_type": "code",
   "execution_count": 6,
   "metadata": {},
   "outputs": [],
   "source": [
    "#-- Function to select a combination for the run\n",
    "\n",
    "def forcomb(s,a,df,ftime1):\n",
    "    \n",
    "    df2 = df[ (df.source == s)]\n",
    "   \n",
    "    prophet_df = pd.DataFrame()\n",
    "    prophet_analysis_df = pd.DataFrame()\n",
    "    prophet_future_df = pd.DataFrame()\n",
    "\n",
    "    df2['date'] = df2.index.date\n",
    "    \n",
    "    df2 = pd.DataFrame(df2.groupby(by='date').app_rsp_time.max())\n",
    "    \n",
    "    df2 = df2.reset_index()\n",
    "    df2 = df2.sort_values(by='date',ascending=True)\n",
    "    df2.index = df2['date']\n",
    "    del df2['date']\n",
    "    df2['application'] = df.application[0]\n",
    "    df2['source'] = s\n",
    "\n",
    "    print('length of data = ',len(df2))\n",
    "   \n",
    "    if(len(df2)>config.limit):\n",
    "             \n",
    "        prophet_analysis_df,ew_model,ew_forcast,prophet_df,prophet_future_df =(create_prophet_m(a,df2,config.delay))\n",
    "\n",
    "\n",
    "        \n",
    "        t2 = datetime.now()\n",
    "        prophet_analysis_df['total_run_time'] = round(((t2-ftime1).seconds/60),2)\n",
    "        \n",
    "        prophet_analysis_df['application'] = a\n",
    "        prophet_analysis_df['source'] = s\n",
    "        \n",
    "            \n",
    "       \n",
    "        prophet_future_df['application'] = a\n",
    "        prophet_future_df['source'] = s\n",
    "        \n",
    "        prophet_df['application'] = a\n",
    "        prophet_df['source'] = s\n",
    "\n",
    "    df2 = df2.reset_index()\n",
    "    return prophet_df, prophet_analysis_df, prophet_future_df , df2"
   ]
  },
  {
   "cell_type": "markdown",
   "metadata": {},
   "source": [
    "### Running for selected application-source model "
   ]
  },
  {
   "cell_type": "code",
   "execution_count": 7,
   "metadata": {
    "scrolled": true
   },
   "outputs": [
    {
     "name": "stderr",
     "output_type": "stream",
     "text": [
      "  0%|          | 0/5 [00:00<?, ?it/s]/opt/conda/lib/python3.6/site-packages/pyspark/sql/dataframe.py:138: DeprecationWarning: Deprecated in 2.0, use createOrReplaceTempView instead.\n",
      "  \"Deprecated in 2.0, use createOrReplaceTempView instead.\", DeprecationWarning)\n",
      "INFO:fbprophet.forecaster:Disabling daily seasonality. Run prophet with daily_seasonality=True to override this.\n"
     ]
    },
    {
     "name": "stdout",
     "output_type": "stream",
     "text": [
      "length of data =  83\n"
     ]
    },
    {
     "name": "stderr",
     "output_type": "stream",
     "text": [
      "INFO:fbprophet.forecaster:Disabling daily seasonality. Run prophet with daily_seasonality=True to override this.\n"
     ]
    },
    {
     "name": "stdout",
     "output_type": "stream",
     "text": [
      "App name: DNS\n",
      "RMSE : 14347.067542219651\n",
      "MAPE : 9.901297640116233\n"
     ]
    },
    {
     "name": "stderr",
     "output_type": "stream",
     "text": [
      "INFO:fbprophet.forecaster:Disabling daily seasonality. Run prophet with daily_seasonality=True to override this.\n"
     ]
    },
    {
     "name": "stdout",
     "output_type": "stream",
     "text": [
      "length of data =  91\n"
     ]
    },
    {
     "name": "stderr",
     "output_type": "stream",
     "text": [
      "INFO:fbprophet.forecaster:Disabling daily seasonality. Run prophet with daily_seasonality=True to override this.\n",
      " 20%|██        | 1/5 [00:46<03:07, 46.85s/it]"
     ]
    },
    {
     "name": "stdout",
     "output_type": "stream",
     "text": [
      "App name: DNS\n",
      "RMSE : 85111.15953214842\n",
      "MAPE : 167.16615366435727\n"
     ]
    },
    {
     "name": "stderr",
     "output_type": "stream",
     "text": [
      "INFO:fbprophet.forecaster:Disabling daily seasonality. Run prophet with daily_seasonality=True to override this.\n"
     ]
    },
    {
     "name": "stdout",
     "output_type": "stream",
     "text": [
      "length of data =  83\n"
     ]
    },
    {
     "name": "stderr",
     "output_type": "stream",
     "text": [
      "INFO:fbprophet.forecaster:Disabling daily seasonality. Run prophet with daily_seasonality=True to override this.\n"
     ]
    },
    {
     "name": "stdout",
     "output_type": "stream",
     "text": [
      "App name: DHCP\n",
      "RMSE : 4575.315785471704\n",
      "MAPE : 22.045479500578953\n"
     ]
    },
    {
     "name": "stderr",
     "output_type": "stream",
     "text": [
      "INFO:fbprophet.forecaster:Disabling daily seasonality. Run prophet with daily_seasonality=True to override this.\n"
     ]
    },
    {
     "name": "stdout",
     "output_type": "stream",
     "text": [
      "length of data =  91\n"
     ]
    },
    {
     "name": "stderr",
     "output_type": "stream",
     "text": [
      "INFO:fbprophet.forecaster:Disabling daily seasonality. Run prophet with daily_seasonality=True to override this.\n",
      " 40%|████      | 2/5 [01:24<02:12, 44.24s/it]"
     ]
    },
    {
     "name": "stdout",
     "output_type": "stream",
     "text": [
      "App name: DHCP\n",
      "RMSE : 36814.18119494259\n",
      "MAPE : 231.86831930240572\n"
     ]
    },
    {
     "name": "stderr",
     "output_type": "stream",
     "text": [
      "INFO:fbprophet.forecaster:Disabling daily seasonality. Run prophet with daily_seasonality=True to override this.\n"
     ]
    },
    {
     "name": "stdout",
     "output_type": "stream",
     "text": [
      "length of data =  83\n"
     ]
    },
    {
     "name": "stderr",
     "output_type": "stream",
     "text": [
      "INFO:fbprophet.forecaster:Disabling daily seasonality. Run prophet with daily_seasonality=True to override this.\n"
     ]
    },
    {
     "name": "stdout",
     "output_type": "stream",
     "text": [
      "App name: Radius\n",
      "RMSE : 209590.37523128113\n",
      "MAPE : 246.8015821175988\n"
     ]
    },
    {
     "name": "stderr",
     "output_type": "stream",
     "text": [
      "INFO:fbprophet.forecaster:Disabling daily seasonality. Run prophet with daily_seasonality=True to override this.\n"
     ]
    },
    {
     "name": "stdout",
     "output_type": "stream",
     "text": [
      "length of data =  91\n"
     ]
    },
    {
     "name": "stderr",
     "output_type": "stream",
     "text": [
      "INFO:fbprophet.forecaster:Disabling daily seasonality. Run prophet with daily_seasonality=True to override this.\n",
      " 60%|██████    | 3/5 [02:02<01:24, 42.25s/it]"
     ]
    },
    {
     "name": "stdout",
     "output_type": "stream",
     "text": [
      "App name: Radius\n",
      "RMSE : 297551.9482378622\n",
      "MAPE : 453.1652536553806\n"
     ]
    },
    {
     "name": "stderr",
     "output_type": "stream",
     "text": [
      "INFO:fbprophet.forecaster:Disabling daily seasonality. Run prophet with daily_seasonality=True to override this.\n"
     ]
    },
    {
     "name": "stdout",
     "output_type": "stream",
     "text": [
      "length of data =  83\n"
     ]
    },
    {
     "name": "stderr",
     "output_type": "stream",
     "text": [
      "INFO:fbprophet.forecaster:Disabling daily seasonality. Run prophet with daily_seasonality=True to override this.\n"
     ]
    },
    {
     "name": "stdout",
     "output_type": "stream",
     "text": [
      "App name: Kerberos\n",
      "RMSE : 31921.432920459934\n",
      "MAPE : 21.67788254492486\n"
     ]
    },
    {
     "name": "stderr",
     "output_type": "stream",
     "text": [
      "INFO:fbprophet.forecaster:Disabling daily seasonality. Run prophet with daily_seasonality=True to override this.\n"
     ]
    },
    {
     "name": "stdout",
     "output_type": "stream",
     "text": [
      "length of data =  91\n"
     ]
    },
    {
     "name": "stderr",
     "output_type": "stream",
     "text": [
      "INFO:fbprophet.forecaster:Disabling daily seasonality. Run prophet with daily_seasonality=True to override this.\n",
      " 80%|████████  | 4/5 [02:40<00:40, 40.91s/it]"
     ]
    },
    {
     "name": "stdout",
     "output_type": "stream",
     "text": [
      "App name: Kerberos\n",
      "RMSE : 47893.9651024127\n",
      "MAPE : 82.13305389834194\n"
     ]
    },
    {
     "name": "stderr",
     "output_type": "stream",
     "text": [
      "INFO:fbprophet.forecaster:Disabling daily seasonality. Run prophet with daily_seasonality=True to override this.\n"
     ]
    },
    {
     "name": "stdout",
     "output_type": "stream",
     "text": [
      "length of data =  83\n"
     ]
    },
    {
     "name": "stderr",
     "output_type": "stream",
     "text": [
      "INFO:fbprophet.forecaster:Disabling daily seasonality. Run prophet with daily_seasonality=True to override this.\n"
     ]
    },
    {
     "name": "stdout",
     "output_type": "stream",
     "text": [
      "App name: LDAP\n",
      "RMSE : 17253.77914011522\n",
      "MAPE : 19.04315799056373\n"
     ]
    },
    {
     "name": "stderr",
     "output_type": "stream",
     "text": [
      "INFO:fbprophet.forecaster:Disabling daily seasonality. Run prophet with daily_seasonality=True to override this.\n"
     ]
    },
    {
     "name": "stdout",
     "output_type": "stream",
     "text": [
      "length of data =  91\n"
     ]
    },
    {
     "name": "stderr",
     "output_type": "stream",
     "text": [
      "INFO:fbprophet.forecaster:Disabling daily seasonality. Run prophet with daily_seasonality=True to override this.\n",
      "100%|██████████| 5/5 [03:18<00:00, 39.94s/it]"
     ]
    },
    {
     "name": "stdout",
     "output_type": "stream",
     "text": [
      "App name: LDAP\n",
      "RMSE : 3542.2710131865615\n",
      "MAPE : 16.693479647987633\n"
     ]
    },
    {
     "name": "stderr",
     "output_type": "stream",
     "text": [
      "\n"
     ]
    }
   ],
   "source": [
    "\n",
    "\n",
    "a = ap_list[0]\n",
    "s = s_list[0]\n",
    "prophet_analysis_df_full = pd.DataFrame()\n",
    "\n",
    "for a in tqdm(ap_list):\n",
    "    for s in s_list:\n",
    "        qt1 = datetime.now()\n",
    "        data = df[(df.application == a ) & (df.source==s)]\n",
    "\n",
    "        df_t = data.registerTempTable('dummy')\n",
    "        df_t = sqlContext.sql('select avg(app_rsp_time) as app_rsp_time, time_stamp, source , application  from dummy group by source, application, time_stamp')\n",
    "       \n",
    "        # data cleaning\n",
    "        df_t = df_t[df_t.app_rsp_time!=0]\n",
    "        app_rsp_time_df=df_t.toPandas()\n",
    "    \n",
    "\n",
    "        #s_array = app_rsp_time_df.source.unique()\n",
    "\n",
    "        app_rsp_time_df = app_rsp_time_df.sort_values(by='app_rsp_time',ascending=True)       \n",
    "        dates_outlook = pd.to_datetime(pd.Series(app_rsp_time_df.time_stamp),unit='ms')\n",
    "        app_rsp_time_df.index = dates_outlook   \n",
    "        app_rsp_time_df = app_rsp_time_df.sort_values(by='time_stamp')\n",
    "        prophet_df,prophet_analysis_df,prophet_future_df,app_rsp_time_full_df = forcomb(s,a,app_rsp_time_df,qt1)\n",
    "\n",
    "        prophet_analysis_df_full = prophet_analysis_df_full.append(prophet_analysis_df)\n"
   ]
  },
  {
   "cell_type": "markdown",
   "metadata": {},
   "source": [
    "It takes 19 seconds to run for an individual combination "
   ]
  },
  {
   "cell_type": "code",
   "execution_count": null,
   "metadata": {},
   "outputs": [],
   "source": []
  },
  {
   "cell_type": "code",
   "execution_count": 8,
   "metadata": {},
   "outputs": [
    {
     "data": {
      "text/html": [
       "<div>\n",
       "<style scoped>\n",
       "    .dataframe tbody tr th:only-of-type {\n",
       "        vertical-align: middle;\n",
       "    }\n",
       "\n",
       "    .dataframe tbody tr th {\n",
       "        vertical-align: top;\n",
       "    }\n",
       "\n",
       "    .dataframe thead th {\n",
       "        text-align: right;\n",
       "    }\n",
       "</style>\n",
       "<table border=\"1\" class=\"dataframe\">\n",
       "  <thead>\n",
       "    <tr style=\"text-align: right;\">\n",
       "      <th></th>\n",
       "      <th>length</th>\n",
       "      <th>test_rmse</th>\n",
       "      <th>test_mape</th>\n",
       "      <th>std_mape</th>\n",
       "      <th>min_error_rate</th>\n",
       "      <th>max_error_rate</th>\n",
       "      <th>median_error_rate</th>\n",
       "      <th>test_mape_98</th>\n",
       "      <th>total_run_time</th>\n",
       "      <th>application</th>\n",
       "      <th>source</th>\n",
       "    </tr>\n",
       "  </thead>\n",
       "  <tbody>\n",
       "    <tr>\n",
       "      <th>DNS</th>\n",
       "      <td>83</td>\n",
       "      <td>14347.067542</td>\n",
       "      <td>9.901298</td>\n",
       "      <td>13.901434</td>\n",
       "      <td>0.001385</td>\n",
       "      <td>0.543710</td>\n",
       "      <td>0.047777</td>\n",
       "      <td>8.122511</td>\n",
       "      <td>0.42</td>\n",
       "      <td>DNS</td>\n",
       "      <td>10.6.1.101</td>\n",
       "    </tr>\n",
       "    <tr>\n",
       "      <th>DNS</th>\n",
       "      <td>91</td>\n",
       "      <td>85111.159532</td>\n",
       "      <td>167.166154</td>\n",
       "      <td>251.379000</td>\n",
       "      <td>0.545330</td>\n",
       "      <td>15.012395</td>\n",
       "      <td>1.094283</td>\n",
       "      <td>121.163624</td>\n",
       "      <td>0.35</td>\n",
       "      <td>DNS</td>\n",
       "      <td>134.141.5.104</td>\n",
       "    </tr>\n",
       "    <tr>\n",
       "      <th>DHCP</th>\n",
       "      <td>83</td>\n",
       "      <td>4575.315785</td>\n",
       "      <td>22.045480</td>\n",
       "      <td>16.872771</td>\n",
       "      <td>0.021822</td>\n",
       "      <td>0.576519</td>\n",
       "      <td>0.174056</td>\n",
       "      <td>20.621221</td>\n",
       "      <td>0.30</td>\n",
       "      <td>DHCP</td>\n",
       "      <td>10.6.1.101</td>\n",
       "    </tr>\n",
       "    <tr>\n",
       "      <th>DHCP</th>\n",
       "      <td>91</td>\n",
       "      <td>36814.181195</td>\n",
       "      <td>231.868319</td>\n",
       "      <td>325.262963</td>\n",
       "      <td>0.194533</td>\n",
       "      <td>18.234738</td>\n",
       "      <td>1.450988</td>\n",
       "      <td>176.985372</td>\n",
       "      <td>0.32</td>\n",
       "      <td>DHCP</td>\n",
       "      <td>134.141.5.104</td>\n",
       "    </tr>\n",
       "    <tr>\n",
       "      <th>Radius</th>\n",
       "      <td>83</td>\n",
       "      <td>209590.375231</td>\n",
       "      <td>246.801582</td>\n",
       "      <td>294.335789</td>\n",
       "      <td>0.014613</td>\n",
       "      <td>9.244501</td>\n",
       "      <td>0.810490</td>\n",
       "      <td>219.695641</td>\n",
       "      <td>0.30</td>\n",
       "      <td>Radius</td>\n",
       "      <td>10.6.1.101</td>\n",
       "    </tr>\n",
       "    <tr>\n",
       "      <th>Radius</th>\n",
       "      <td>91</td>\n",
       "      <td>297551.948238</td>\n",
       "      <td>453.165254</td>\n",
       "      <td>601.961855</td>\n",
       "      <td>0.007443</td>\n",
       "      <td>20.482787</td>\n",
       "      <td>1.646370</td>\n",
       "      <td>398.161342</td>\n",
       "      <td>0.32</td>\n",
       "      <td>Radius</td>\n",
       "      <td>134.141.5.104</td>\n",
       "    </tr>\n",
       "    <tr>\n",
       "      <th>Kerberos</th>\n",
       "      <td>83</td>\n",
       "      <td>31921.432920</td>\n",
       "      <td>21.677883</td>\n",
       "      <td>15.451168</td>\n",
       "      <td>0.007299</td>\n",
       "      <td>0.501217</td>\n",
       "      <td>0.151835</td>\n",
       "      <td>20.540130</td>\n",
       "      <td>0.30</td>\n",
       "      <td>Kerberos</td>\n",
       "      <td>10.6.1.101</td>\n",
       "    </tr>\n",
       "    <tr>\n",
       "      <th>Kerberos</th>\n",
       "      <td>91</td>\n",
       "      <td>47893.965102</td>\n",
       "      <td>82.133054</td>\n",
       "      <td>42.150376</td>\n",
       "      <td>0.263044</td>\n",
       "      <td>2.754134</td>\n",
       "      <td>0.811270</td>\n",
       "      <td>75.468215</td>\n",
       "      <td>0.32</td>\n",
       "      <td>Kerberos</td>\n",
       "      <td>134.141.5.104</td>\n",
       "    </tr>\n",
       "    <tr>\n",
       "      <th>LDAP</th>\n",
       "      <td>83</td>\n",
       "      <td>17253.779140</td>\n",
       "      <td>19.043158</td>\n",
       "      <td>12.934330</td>\n",
       "      <td>0.010976</td>\n",
       "      <td>0.571972</td>\n",
       "      <td>0.153255</td>\n",
       "      <td>17.516996</td>\n",
       "      <td>0.30</td>\n",
       "      <td>LDAP</td>\n",
       "      <td>10.6.1.101</td>\n",
       "    </tr>\n",
       "    <tr>\n",
       "      <th>LDAP</th>\n",
       "      <td>91</td>\n",
       "      <td>3542.271013</td>\n",
       "      <td>16.693480</td>\n",
       "      <td>30.160869</td>\n",
       "      <td>0.004622</td>\n",
       "      <td>1.764835</td>\n",
       "      <td>0.115175</td>\n",
       "      <td>11.183479</td>\n",
       "      <td>0.32</td>\n",
       "      <td>LDAP</td>\n",
       "      <td>134.141.5.104</td>\n",
       "    </tr>\n",
       "  </tbody>\n",
       "</table>\n",
       "</div>"
      ],
      "text/plain": [
       "          length      test_rmse   test_mape    std_mape  min_error_rate  \\\n",
       "DNS           83   14347.067542    9.901298   13.901434        0.001385   \n",
       "DNS           91   85111.159532  167.166154  251.379000        0.545330   \n",
       "DHCP          83    4575.315785   22.045480   16.872771        0.021822   \n",
       "DHCP          91   36814.181195  231.868319  325.262963        0.194533   \n",
       "Radius        83  209590.375231  246.801582  294.335789        0.014613   \n",
       "Radius        91  297551.948238  453.165254  601.961855        0.007443   \n",
       "Kerberos      83   31921.432920   21.677883   15.451168        0.007299   \n",
       "Kerberos      91   47893.965102   82.133054   42.150376        0.263044   \n",
       "LDAP          83   17253.779140   19.043158   12.934330        0.010976   \n",
       "LDAP          91    3542.271013   16.693480   30.160869        0.004622   \n",
       "\n",
       "          max_error_rate  median_error_rate  test_mape_98  total_run_time  \\\n",
       "DNS             0.543710           0.047777      8.122511            0.42   \n",
       "DNS            15.012395           1.094283    121.163624            0.35   \n",
       "DHCP            0.576519           0.174056     20.621221            0.30   \n",
       "DHCP           18.234738           1.450988    176.985372            0.32   \n",
       "Radius          9.244501           0.810490    219.695641            0.30   \n",
       "Radius         20.482787           1.646370    398.161342            0.32   \n",
       "Kerberos        0.501217           0.151835     20.540130            0.30   \n",
       "Kerberos        2.754134           0.811270     75.468215            0.32   \n",
       "LDAP            0.571972           0.153255     17.516996            0.30   \n",
       "LDAP            1.764835           0.115175     11.183479            0.32   \n",
       "\n",
       "         application         source  \n",
       "DNS              DNS     10.6.1.101  \n",
       "DNS              DNS  134.141.5.104  \n",
       "DHCP            DHCP     10.6.1.101  \n",
       "DHCP            DHCP  134.141.5.104  \n",
       "Radius        Radius     10.6.1.101  \n",
       "Radius        Radius  134.141.5.104  \n",
       "Kerberos    Kerberos     10.6.1.101  \n",
       "Kerberos    Kerberos  134.141.5.104  \n",
       "LDAP            LDAP     10.6.1.101  \n",
       "LDAP            LDAP  134.141.5.104  "
      ]
     },
     "execution_count": 8,
     "metadata": {},
     "output_type": "execute_result"
    }
   ],
   "source": [
    "prophet_analysis_df_full"
   ]
  },
  {
   "cell_type": "code",
   "execution_count": 9,
   "metadata": {},
   "outputs": [
    {
     "data": {
      "text/plain": [
       "52.089266699460445"
      ]
     },
     "execution_count": 9,
     "metadata": {},
     "output_type": "execute_result"
    }
   ],
   "source": [
    "prophet_analysis_df_full.test_mape.quantile(.5)"
   ]
  },
  {
   "cell_type": "markdown",
   "metadata": {},
   "source": [
    "### evaluation example "
   ]
  },
  {
   "cell_type": "code",
   "execution_count": 10,
   "metadata": {
    "scrolled": true
   },
   "outputs": [
    {
     "data": {
      "image/png": "[encoded data removed]",
      "text/plain": [
       "<Figure size 432x288 with 1 Axes>"
      ]
     },
     "metadata": {},
     "output_type": "display_data"
    }
   ],
   "source": [
    "    from matplotlib import pyplot as plt\n",
    "    plt.plot(prophet_df['y'])\n",
    "    plt.plot(prophet_df['yhat'])\n",
    "    plt.title('prediction evaluation of '+a+'-'+s)\n",
    "    plt.ylabel('app_rsp_time')\n",
    "    plt.xlabel('date')\n",
    "    plt.legend([ 'actual','predicted'], loc='upper left')\n",
    "    plt.show()"
   ]
  },
  {
   "cell_type": "markdown",
   "metadata": {},
   "source": [
    "## XGBoost Model"
   ]
  },
  {
   "cell_type": "markdown",
   "metadata": {},
   "source": [
    "XGBoost is an implementation of gradient boosted decision trees designed for speed and performance that is dominative competitive machine learning.\n",
    "\n",
    "delay_pred function is used to make history date with specified delay."
   ]
  },
  {
   "cell_type": "code",
   "execution_count": 11,
   "metadata": {},
   "outputs": [],
   "source": [
    "def delay_pred(dataset,delay):\n",
    "    dataset2 = dataset.copy()\n",
    "    colnames = (dataset.columns)\n",
    "    for i in range((delay),len(dataset)):\n",
    "        \n",
    "        for j in range(0,len(colnames)):\n",
    "            colmn1 = colnames[j]\n",
    "            if(colmn1 in ['app_rsp_time','hour','weekday','app_rsp_time_t-1']):\n",
    "                continue\n",
    "            dataset2[colmn1][i] = dataset.iloc[(i-delay):i,j].mean()\n",
    "            #dataset2.set_values(i,colmn1, dataset2.iloc[i:(i+delay),j].mean())\n",
    "    \n",
    "    return dataset2\n"
   ]
  },
  {
   "cell_type": "markdown",
   "metadata": {},
   "source": [
    "forcast_shifter funtion is used to shift the output(app_rsp_time) as per the point to be predicted using the history data , and also it adjust the length of given x & y data after the shifting operation to avoid the na values."
   ]
  },
  {
   "cell_type": "code",
   "execution_count": 12,
   "metadata": {},
   "outputs": [],
   "source": [
    "def forcast_shifter(X,y,forcast_lag):\n",
    "\n",
    "    #X.index = range(len(X))\n",
    "    #y.index = range(len(y))\n",
    "    \n",
    "    y1=y.shift(-forcast_lag)\n",
    "    #print(X.iloc[0:X.shape[0]-forcast_lag,:])\n",
    "    X1=X.iloc[0:X.shape[0]-forcast_lag,:].astype('float64')\n",
    "    y1 = y1[0:len(y1)-forcast_lag]\n",
    "    return X1,y1"
   ]
  },
  {
   "cell_type": "markdown",
   "metadata": {},
   "source": [
    "#### XGB prediction function"
   ]
  },
  {
   "cell_type": "code",
   "execution_count": 13,
   "metadata": {},
   "outputs": [],
   "source": [
    "def  xgb_all_real_24(data_l_ew_g,history_lag=5,forcast_lag=1):\n",
    "    import numpy as np\n",
    "    \n",
    "    data_l_ew_g1 = data_l_ew_g.copy()\n",
    "    data_l_ew_history = delay_pred(data_l_ew_g1,history_lag)\n",
    "    \n",
    "    # Removing the outlier\n",
    "    #data_l_ew_history.loc[data_l_ew_history['app_rsp_time']==max(data_l_ew_history['app_rsp_time']),'app_rsp_time']= data_l_ew_history['app_rsp_time'].quantile(.9)*.2\n",
    "\n",
    "    ###### Removing the outlier ######\n",
    "    #cutter = data_l_ew_history['app_rsp_time'].quantile(.90)\n",
    "    #data_l_ew_history.loc[data_l_ew_history['app_rsp_time']> cutter,'app_rsp_time']= cutter\n",
    "    #data_l_ew_history['app_rsp_time'] = (data_l_ew_history['app_rsp_time'])\n",
    "    \n",
    "    import random\n",
    "    import datetime\n",
    "    \n",
    "    random.seed(100)\n",
    "    data_l_ew_history['date'] = data_l_ew_history.index\n",
    "    data_l_ew_history=data_l_ew_history.sort_values(by='date')\n",
    "    from pandas.tseries.holiday import USFederalHolidayCalendar as calendar\n",
    "    cal = calendar()\n",
    "    holidays = cal.holidays(start = data_l_ew_history.date.min(), end = data_l_ew_history.date.max())\n",
    "    #data_l_ew_history[\"IS_HOLIDAY\"] = data_l_ew_history.date.isin(holidays)\n",
    "    #data_l_ew_history[\"IS_WORKDAY\"] = data_l_ew_history.date.apply(lambda x: 0 if x.dayofweek > 5 else 1  )\n",
    "    import xgboost as xgb\n",
    "    from sklearn.cross_validation import train_test_split as ttsplit\n",
    "    from sklearn.datasets import load_boston\n",
    "    from sklearn.metrics import mean_squared_error as mse\n",
    "\n",
    "    #--- Model without is_workday and is_holiday ---#\n",
    "    import numpy as np\n",
    "    X = data_l_ew_history.iloc[:,1:data_l_ew_history.shape[1]-1].values\n",
    "    \n",
    "    y = np.array((data_l_ew_history['app_rsp_time']))\n",
    "    predicted1 =list()\n",
    "    split2 = int(len(X)-forcast_lag)#-1\n",
    "    \n",
    "    X_test_t = X[split2:len(X),:]\n",
    "    \n",
    "    y_test_t = y[split2:len(y)]\n",
    "    k=24\n",
    "    \n",
    "    \n",
    "    for j in range(1,forcast_lag+1):\n",
    "        \n",
    "        #--- Shifting as per required forcast ------\n",
    "        X1,y1 = forcast_shifter(data_l_ew_history.iloc[:,1:data_l_ew_history.shape[1]-1],\n",
    "                                data_l_ew_history['app_rsp_time'],j)\n",
    "\n",
    "        \n",
    "        X = X1.values\n",
    "        y = np.array(np.log(y1))\n",
    "        #y = np.array(y1)\n",
    "        #y_train,y_test = forcast_shifter\n",
    "        # split data into training and testing sets\n",
    "        # then split training set in half\n",
    "        #X_train, X_test, y_train, y_test = ttsplit(X, y, test_size=0.3, random_state=0)\n",
    "        #split2 = int(len(X)*.7)\n",
    "        # lenght of data frame X will reduce when j shift is done \n",
    "        #split2 = int(len(X)-(24-j))\n",
    "        X_train = X[0:(split2-1),:]\n",
    "        X_test = X[(split2-1):len(X),:]\n",
    "        y_train = y[0:(split2-1)]\n",
    "        y_test = y[(split2-1):len(X)]\n",
    "        xg_train_1 = xgb.DMatrix(X_train, label=y_train)\n",
    "        #xg_train_2 = xgb.DMatrix(X_train_2, label=y_train_2)\n",
    "        xg_test = xgb.DMatrix(X_test, label=y_test)\n",
    "    \n",
    "        s_time = datetime.datetime.now()\n",
    "\n",
    "        params = {'objective': 'reg:linear', 'verbose': True , 'eval' : 'rmse ' ,'gamma':.01,\n",
    "                 'max_depth':3, 'min_child_weight':3,'eta':.02,'num_round':350}\n",
    "        #params = {  'objective':'reg:linear' , 'verbose': True , 'eval' : 'rmse ' }\n",
    "        model_1_mean5 = xgb.train(params, xg_train_1, 200)\n",
    "        e_time = datetime.datetime.now()\n",
    "        run_time = (e_time - s_time)\n",
    "        #print((run_time.seconds)/60,\"minuts\")\n",
    "\n",
    "        #--- Training and testing rmse finding ---#\n",
    "    \n",
    "    \n",
    "        ### Test set manipulations ###\n",
    "        predicted_dummy = model_1_mean5.predict(xg_test)\n",
    "        #print(predicted_dummy)\n",
    "        predicted1.append(predicted_dummy[0])\n",
    "        \n",
    "    \n",
    "    y_test = (y_test_t)\n",
    "    predicted1 = np.exp(predicted1)\n",
    "    \n",
    "    delta = pd.Series(( y_test - predicted1))\n",
    "    compar_test = pd.DataFrame({'predicted':predicted1,'actual':y_test,'error':delta})\n",
    "    compar_test['perc_error']= abs(compar_test['error']/compar_test['actual']*100)\n",
    "   # xgb_mse_test =(mse(compar_test['predicted'] , compar_test['actual']))\n",
    "   # xgb_rmse_test = math.sqrt(xgb_mse_test)\n",
    "\n",
    "    #print('test rmse',xgb_rmse_test )\n",
    "    \n",
    "    xgb_mape_test = compar_test.perc_error.mean()\n",
    "    print('MAPE = ',xgb_mape_test)\n",
    "    \n",
    "    q98=compar_test['perc_error'].quantile(0.98)\n",
    "    mape_q98_test =compar_test['perc_error'][compar_test.perc_error<compar_test['perc_error'].quantile(0.98)].mean()\n",
    "    print('MAPE clipped at 98% = ',mape_q98_test)\n",
    "    \n",
    "    mm ='xgboost_hist'+str(history_lag)+'_forcast_'+str(forcast_lag)\n",
    "    df = pd.DataFrame({'Model':[mm],#'predicted_t':[forcast_lag],\n",
    "                         \n",
    "                         #'test_rmse':[round(xgb_rmse_test,2)],\n",
    "                         \n",
    "                         'test_mape':[round(xgb_mape_test,2)],\n",
    "                       \n",
    "                       'test_mape_98':[round(mape_q98_test,2)]\n",
    "                      })\n",
    "    return df,compar_test"
   ]
  },
  {
   "cell_type": "markdown",
   "metadata": {},
   "source": [
    "### Running xgboost model for selected application-source model"
   ]
  },
  {
   "cell_type": "code",
   "execution_count": 14,
   "metadata": {
    "scrolled": true
   },
   "outputs": [
    {
     "name": "stderr",
     "output_type": "stream",
     "text": [
      "  0%|          | 0/5 [00:00<?, ?it/s]/opt/conda/lib/python3.6/site-packages/pyspark/sql/dataframe.py:138: DeprecationWarning: Deprecated in 2.0, use createOrReplaceTempView instead.\n",
      "  \"Deprecated in 2.0, use createOrReplaceTempView instead.\", DeprecationWarning)\n",
      "/opt/conda/lib/python3.6/site-packages/sklearn/cross_validation.py:41: DeprecationWarning: This module was deprecated in version 0.18 in favor of the model_selection module into which all the refactored classes and functions are moved. Also note that the interface of the new CV iterators are different from that of this module. This module will be removed in 0.20.\n",
      "  \"This module will be removed in 0.20.\", DeprecationWarning)\n"
     ]
    },
    {
     "name": "stdout",
     "output_type": "stream",
     "text": [
      "MAPE =  15.326161609231917\n",
      "MAPE clipped at 98% =  13.690980571354732\n"
     ]
    },
    {
     "name": "stderr",
     "output_type": "stream",
     "text": [
      "/opt/conda/lib/python3.6/site-packages/pyspark/sql/dataframe.py:138: DeprecationWarning: Deprecated in 2.0, use createOrReplaceTempView instead.\n",
      "  \"Deprecated in 2.0, use createOrReplaceTempView instead.\", DeprecationWarning)\n",
      " 20%|██        | 1/5 [01:57<07:48, 117.24s/it]"
     ]
    },
    {
     "name": "stdout",
     "output_type": "stream",
     "text": [
      "MAPE =  57.7113460240155\n",
      "MAPE clipped at 98% =  46.440049331084964\n"
     ]
    },
    {
     "name": "stderr",
     "output_type": "stream",
     "text": [
      "/opt/conda/lib/python3.6/site-packages/pyspark/sql/dataframe.py:138: DeprecationWarning: Deprecated in 2.0, use createOrReplaceTempView instead.\n",
      "  \"Deprecated in 2.0, use createOrReplaceTempView instead.\", DeprecationWarning)\n"
     ]
    },
    {
     "name": "stdout",
     "output_type": "stream",
     "text": [
      "MAPE =  25.323578411042167\n",
      "MAPE clipped at 98% =  23.32020976773893\n"
     ]
    },
    {
     "name": "stderr",
     "output_type": "stream",
     "text": [
      "/opt/conda/lib/python3.6/site-packages/pyspark/sql/dataframe.py:138: DeprecationWarning: Deprecated in 2.0, use createOrReplaceTempView instead.\n",
      "  \"Deprecated in 2.0, use createOrReplaceTempView instead.\", DeprecationWarning)\n",
      " 40%|████      | 2/5 [03:50<05:48, 116.11s/it]"
     ]
    },
    {
     "name": "stdout",
     "output_type": "stream",
     "text": [
      "MAPE =  78.44924201496868\n",
      "MAPE clipped at 98% =  60.648104639555314\n"
     ]
    },
    {
     "name": "stderr",
     "output_type": "stream",
     "text": [
      "/opt/conda/lib/python3.6/site-packages/pyspark/sql/dataframe.py:138: DeprecationWarning: Deprecated in 2.0, use createOrReplaceTempView instead.\n",
      "  \"Deprecated in 2.0, use createOrReplaceTempView instead.\", DeprecationWarning)\n"
     ]
    },
    {
     "name": "stdout",
     "output_type": "stream",
     "text": [
      "MAPE =  128.00778492373072\n",
      "MAPE clipped at 98% =  92.95505590143878\n"
     ]
    },
    {
     "name": "stderr",
     "output_type": "stream",
     "text": [
      "/opt/conda/lib/python3.6/site-packages/pyspark/sql/dataframe.py:138: DeprecationWarning: Deprecated in 2.0, use createOrReplaceTempView instead.\n",
      "  \"Deprecated in 2.0, use createOrReplaceTempView instead.\", DeprecationWarning)\n",
      " 60%|██████    | 3/5 [05:41<03:49, 114.55s/it]"
     ]
    },
    {
     "name": "stdout",
     "output_type": "stream",
     "text": [
      "MAPE =  133.3276753830664\n",
      "MAPE clipped at 98% =  110.57769295068856\n"
     ]
    },
    {
     "name": "stderr",
     "output_type": "stream",
     "text": [
      "/opt/conda/lib/python3.6/site-packages/pyspark/sql/dataframe.py:138: DeprecationWarning: Deprecated in 2.0, use createOrReplaceTempView instead.\n",
      "  \"Deprecated in 2.0, use createOrReplaceTempView instead.\", DeprecationWarning)\n"
     ]
    },
    {
     "name": "stdout",
     "output_type": "stream",
     "text": [
      "MAPE =  29.37798533973058\n",
      "MAPE clipped at 98% =  28.423986711012542\n"
     ]
    },
    {
     "name": "stderr",
     "output_type": "stream",
     "text": [
      "/opt/conda/lib/python3.6/site-packages/pyspark/sql/dataframe.py:138: DeprecationWarning: Deprecated in 2.0, use createOrReplaceTempView instead.\n",
      "  \"Deprecated in 2.0, use createOrReplaceTempView instead.\", DeprecationWarning)\n",
      " 80%|████████  | 4/5 [07:32<01:53, 113.50s/it]"
     ]
    },
    {
     "name": "stdout",
     "output_type": "stream",
     "text": [
      "MAPE =  28.688922547792142\n",
      "MAPE clipped at 98% =  26.83422518874974\n"
     ]
    },
    {
     "name": "stderr",
     "output_type": "stream",
     "text": [
      "/opt/conda/lib/python3.6/site-packages/pyspark/sql/dataframe.py:138: DeprecationWarning: Deprecated in 2.0, use createOrReplaceTempView instead.\n",
      "  \"Deprecated in 2.0, use createOrReplaceTempView instead.\", DeprecationWarning)\n"
     ]
    },
    {
     "name": "stdout",
     "output_type": "stream",
     "text": [
      "MAPE =  29.23672178007612\n",
      "MAPE clipped at 98% =  28.46652674799415\n"
     ]
    },
    {
     "name": "stderr",
     "output_type": "stream",
     "text": [
      "/opt/conda/lib/python3.6/site-packages/pyspark/sql/dataframe.py:138: DeprecationWarning: Deprecated in 2.0, use createOrReplaceTempView instead.\n",
      "  \"Deprecated in 2.0, use createOrReplaceTempView instead.\", DeprecationWarning)\n",
      "100%|██████████| 5/5 [09:25<00:00, 113.15s/it]"
     ]
    },
    {
     "name": "stdout",
     "output_type": "stream",
     "text": [
      "MAPE =  22.863278702949852\n",
      "MAPE clipped at 98% =  21.372810345918722\n"
     ]
    },
    {
     "name": "stderr",
     "output_type": "stream",
     "text": [
      "\n"
     ]
    }
   ],
   "source": [
    "\n",
    "\n",
    "a = ap_list[0]\n",
    "s = s_list[0]\n",
    "xgb_analysis_df_full = pd.DataFrame()\n",
    "\n",
    "for a in tqdm(ap_list):\n",
    "    for s in s_list:\n",
    "        qt1 = datetime.now()\n",
    "        data = df[(df.application == a ) & (df.source==s)]\n",
    "\n",
    "        df_t = data.registerTempTable('dummy')\n",
    "        df_t = sqlContext.sql('select avg(app_rsp_time) as app_rsp_time, time_stamp, avg(byte_count)  as byte_count, avg(flow_count) as flow_count , avg(rx_byte_count) as rx_byte_count , avg(rx_flow_count) as rx_flow_count , avg(tcp_rsp_time) as tcp_rsp_time , avg(tx_byte_count) as tx_byte_count , avg(tx_flow_count) as tx_flow_count from dummy group by source, application, time_stamp')\n",
    "\n",
    "\n",
    "        # data cleaning\n",
    "        df_t = df_t[df_t.app_rsp_time!=0]\n",
    "        app_rsp_time_df=df_t.toPandas() \n",
    "\n",
    "   \n",
    "        app_rsp_time_df = app_rsp_time_df.sort_values(by='app_rsp_time',ascending=True)       \n",
    "        dates_outlook = pd.to_datetime(pd.Series(app_rsp_time_df.time_stamp),unit='ms')\n",
    "        app_rsp_time_df.index = dates_outlook   \n",
    "        app_rsp_time_df = app_rsp_time_df.sort_values(by='time_stamp')\n",
    "\n",
    "        app_rsp_time_df['date'] = app_rsp_time_df.index.date\n",
    "        del app_rsp_time_df['time_stamp']\n",
    "\n",
    "        app_rsp_time_df = app_rsp_time_df.reset_index()\n",
    "        weekday = app_rsp_time_df.time_stamp.dt.weekday\n",
    "        app_rsp_time_df['weekday'] = weekday\n",
    "        del app_rsp_time_df['time_stamp']\n",
    "\n",
    "        app_rsp_time_df = pd.DataFrame(app_rsp_time_df.groupby(by='date')['app_rsp_time','byte_count','flow_count','rx_byte_count','rx_flow_count', 'tcp_rsp_time', 'tx_byte_count', 'tx_flow_count','weekday'].max())\n",
    "\n",
    "        analyse_df,compare_test=xgb_all_real_24(app_rsp_time_df,5,30)\n",
    "        xgb_analysis_df_full = xgb_analysis_df_full.append(analyse_df)"
   ]
  },
  {
   "cell_type": "markdown",
   "metadata": {},
   "source": [
    "It takes 56 seconds to run for an individual combination."
   ]
  },
  {
   "cell_type": "code",
   "execution_count": 15,
   "metadata": {},
   "outputs": [
    {
     "data": {
      "text/html": [
       "<div>\n",
       "<style scoped>\n",
       "    .dataframe tbody tr th:only-of-type {\n",
       "        vertical-align: middle;\n",
       "    }\n",
       "\n",
       "    .dataframe tbody tr th {\n",
       "        vertical-align: top;\n",
       "    }\n",
       "\n",
       "    .dataframe thead th {\n",
       "        text-align: right;\n",
       "    }\n",
       "</style>\n",
       "<table border=\"1\" class=\"dataframe\">\n",
       "  <thead>\n",
       "    <tr style=\"text-align: right;\">\n",
       "      <th></th>\n",
       "      <th>Model</th>\n",
       "      <th>test_mape</th>\n",
       "      <th>test_mape_98</th>\n",
       "    </tr>\n",
       "  </thead>\n",
       "  <tbody>\n",
       "    <tr>\n",
       "      <th>0</th>\n",
       "      <td>xgboost_hist5_forcast_30</td>\n",
       "      <td>15.33</td>\n",
       "      <td>13.69</td>\n",
       "    </tr>\n",
       "    <tr>\n",
       "      <th>0</th>\n",
       "      <td>xgboost_hist5_forcast_30</td>\n",
       "      <td>57.71</td>\n",
       "      <td>46.44</td>\n",
       "    </tr>\n",
       "    <tr>\n",
       "      <th>0</th>\n",
       "      <td>xgboost_hist5_forcast_30</td>\n",
       "      <td>25.32</td>\n",
       "      <td>23.32</td>\n",
       "    </tr>\n",
       "    <tr>\n",
       "      <th>0</th>\n",
       "      <td>xgboost_hist5_forcast_30</td>\n",
       "      <td>78.45</td>\n",
       "      <td>60.65</td>\n",
       "    </tr>\n",
       "    <tr>\n",
       "      <th>0</th>\n",
       "      <td>xgboost_hist5_forcast_30</td>\n",
       "      <td>128.01</td>\n",
       "      <td>92.96</td>\n",
       "    </tr>\n",
       "    <tr>\n",
       "      <th>0</th>\n",
       "      <td>xgboost_hist5_forcast_30</td>\n",
       "      <td>133.33</td>\n",
       "      <td>110.58</td>\n",
       "    </tr>\n",
       "    <tr>\n",
       "      <th>0</th>\n",
       "      <td>xgboost_hist5_forcast_30</td>\n",
       "      <td>29.38</td>\n",
       "      <td>28.42</td>\n",
       "    </tr>\n",
       "    <tr>\n",
       "      <th>0</th>\n",
       "      <td>xgboost_hist5_forcast_30</td>\n",
       "      <td>28.69</td>\n",
       "      <td>26.83</td>\n",
       "    </tr>\n",
       "    <tr>\n",
       "      <th>0</th>\n",
       "      <td>xgboost_hist5_forcast_30</td>\n",
       "      <td>29.24</td>\n",
       "      <td>28.47</td>\n",
       "    </tr>\n",
       "    <tr>\n",
       "      <th>0</th>\n",
       "      <td>xgboost_hist5_forcast_30</td>\n",
       "      <td>22.86</td>\n",
       "      <td>21.37</td>\n",
       "    </tr>\n",
       "  </tbody>\n",
       "</table>\n",
       "</div>"
      ],
      "text/plain": [
       "                      Model  test_mape  test_mape_98\n",
       "0  xgboost_hist5_forcast_30      15.33         13.69\n",
       "0  xgboost_hist5_forcast_30      57.71         46.44\n",
       "0  xgboost_hist5_forcast_30      25.32         23.32\n",
       "0  xgboost_hist5_forcast_30      78.45         60.65\n",
       "0  xgboost_hist5_forcast_30     128.01         92.96\n",
       "0  xgboost_hist5_forcast_30     133.33        110.58\n",
       "0  xgboost_hist5_forcast_30      29.38         28.42\n",
       "0  xgboost_hist5_forcast_30      28.69         26.83\n",
       "0  xgboost_hist5_forcast_30      29.24         28.47\n",
       "0  xgboost_hist5_forcast_30      22.86         21.37"
      ]
     },
     "execution_count": 15,
     "metadata": {},
     "output_type": "execute_result"
    }
   ],
   "source": [
    "xgb_analysis_df_full"
   ]
  },
  {
   "cell_type": "markdown",
   "metadata": {},
   "source": [
    "### evaluation example "
   ]
  },
  {
   "cell_type": "code",
   "execution_count": 17,
   "metadata": {
    "scrolled": true
   },
   "outputs": [
    {
     "data": {
      "image/png": "[encoded data removed]",
      "text/plain": [
       "<Figure size 432x288 with 1 Axes>"
      ]
     },
     "metadata": {},
     "output_type": "display_data"
    }
   ],
   "source": [
    "    from matplotlib import pyplot as plt\n",
    "    plt.plot(compare_test['actual'])\n",
    "    plt.plot(compare_test['predicted'])\n",
    "    plt.title('prediction evaluation of '+a+'-'+s)\n",
    "    plt.ylabel('app_rsp_time')\n",
    "    plt.xlabel('date')\n",
    "    plt.legend([ 'actual','predicted'], loc='upper left')\n",
    "    plt.show()"
   ]
  },
  {
   "cell_type": "code",
   "execution_count": null,
   "metadata": {},
   "outputs": [],
   "source": []
  },
  {
   "cell_type": "markdown",
   "metadata": {},
   "source": [
    "## LSTM Model"
   ]
  },
  {
   "cell_type": "code",
   "execution_count": 18,
   "metadata": {},
   "outputs": [
    {
     "name": "stderr",
     "output_type": "stream",
     "text": [
      "Using TensorFlow backend.\n"
     ]
    }
   ],
   "source": [
    "from keras.layers.embeddings  import  Embedding\n",
    "from keras.layers import LSTM,Dropout\n",
    "from keras.preprocessing import sequence\n",
    "\n",
    "from keras.models import Sequential\n",
    "from keras.layers import Dense\n",
    "import numpy as np\n",
    "from keras.callbacks import TensorBoard\n",
    "from time import time\n",
    "\n",
    "from sklearn.preprocessing import MinMaxScaler"
   ]
  },
  {
   "cell_type": "code",
   "execution_count": 19,
   "metadata": {},
   "outputs": [],
   "source": [
    "def lstm_shifter(y,forcast_lag):\n",
    "    \n",
    "    y1=y.shift(-forcast_lag)    \n",
    "    y1 = y1[0:len(y1)-forcast_lag]\n",
    "    return y1"
   ]
  },
  {
   "cell_type": "code",
   "execution_count": null,
   "metadata": {},
   "outputs": [],
   "source": []
  },
  {
   "cell_type": "code",
   "execution_count": null,
   "metadata": {},
   "outputs": [],
   "source": []
  },
  {
   "cell_type": "code",
   "execution_count": 20,
   "metadata": {},
   "outputs": [],
   "source": [
    "import math \n",
    "from sklearn.metrics import mean_squared_error\n",
    "from tensorflow import set_random_seed\n",
    "\n",
    "\n",
    "def lstm_new(data_l_ew_g_lstm,lag):\n",
    "    \n",
    "    \n",
    "    #data_l_ew_g_lstm = data_l_ew_g_lstm.iloc[:,0:13].copy()\n",
    "    data_l_ew_g_lstm1 = data_l_ew_g_lstm.copy()\n",
    "    cols = data_l_ew_g_lstm.columns\n",
    "    \n",
    "    ###### Removing the outlier ######\n",
    "    #cutter = data_l_ew_g_lstm['app_rsp_time'].quantile(.90)\n",
    "    #data_l_ew_g_lstm.loc[data_l_ew_g_lstm['app_rsp_time']> cutter,'app_rsp_time']= cutter\n",
    "    #data_l_ew_g_lstm['app_rsp_time'] = np.log(data_l_ew_g_lstm['app_rsp_time'])\n",
    "    \n",
    "    \n",
    "\n",
    "    # normalize the dataset\n",
    "    scaler = MinMaxScaler(feature_range=(0, 1))\n",
    "    data_l_ew_g_lstm = pd.DataFrame(scaler.fit_transform(data_l_ew_g_lstm))\n",
    "\n",
    "\n",
    "    import numpy as np\n",
    "    #X_lstm = pd.concat([data_l_ew_history.iloc[:,1:13],data_l_ew_history.iloc[:,14:16]],axis=1)#.values\n",
    "    X_lstm = data_l_ew_g_lstm.iloc[:,1:len(cols)]\n",
    "    y_lstm_init = pd.DataFrame(data_l_ew_g_lstm.iloc[:,0])\n",
    "    \n",
    "    y_output = pd.DataFrame()\n",
    "    \n",
    "    for i in range(1,(lag+1)):\n",
    "        name_z='y'+str(i)\n",
    "        ff =lstm_shifter(y_lstm_init,i)\n",
    "        \n",
    "        #y_output[name_z]=list(ff.iloc[0:len(ff)-(lag-1-i),0])\n",
    "        y_output[name_z]=list(ff.iloc[0:len(X_lstm)-(lag),0])\n",
    "        \n",
    "    \n",
    "    y_lstm1= y_output.copy()\n",
    "    X_lstm1 = X_lstm.copy()\n",
    "\n",
    "    \n",
    "\n",
    "    split = int(len(y_lstm1)-(lag))\n",
    "    #train_x = X_lstm1.iloc[0:split-(lag-1),:].values\n",
    "    #test_x = X_lstm1.iloc[(split-lag):(split-1),:].values\n",
    "    \n",
    "    train_x = X_lstm1.iloc[0:split,:].values\n",
    "    test_x = X_lstm1.iloc[split:len(y_lstm1),:].values\n",
    "    \n",
    "\n",
    "    #train_y = y_lstm1.iloc[0:split-(lag-1),:].values\n",
    "    #test_y = y_lstm1.iloc[(split-lag):(split-1),:].values\n",
    "    train_y = y_lstm1.iloc[0:split,:].values\n",
    "    test_y = y_lstm1.iloc[split:len(y_lstm1),:].values\n",
    "\n",
    "    train_x = train_x.reshape(train_x.shape[0],1,train_x.shape[1])\n",
    "    test_x = test_x.reshape(test_x.shape[0],1,test_x.shape[1])\n",
    "\n",
    "    set_random_seed(7)    \n",
    "    model_m2=Sequential()\n",
    "    model_m2.add(LSTM(12, dropout=0.2,input_shape=(1,len(cols)-1),\n",
    "                  batch_input_shape=(1, train_x.shape[1], train_x.shape[2]), stateful=True))\n",
    "    model_m2.add(Dense(6, activation='relu'))\n",
    "    model_m2.add(Dropout(0.2))\n",
    "    model_m2.add(Dense(3, activation='relu'))\n",
    "    model_m2.add(Dropout(0.1))\n",
    "    model_m2.add(Dense(lag, activation='relu'))\n",
    "    model_m2.summary()\n",
    "    \n",
    "    model_m2.compile(optimizer='rmsprop',\n",
    "                  loss='mse')\n",
    "\n",
    "    r_lstm = model_m2.fit(train_x, train_y, epochs=10, batch_size=1,verbose=2 ,\n",
    "                          validation_data=(test_x,test_y) , shuffle=False)\n",
    "\n",
    "\n",
    "        \n",
    "    # make predictions\n",
    "    trainPredict = model_m2.predict(train_x,batch_size=1)\n",
    "    testPredict = model_m2.predict(test_x,batch_size=1)\n",
    "    \n",
    "     # Invert predictions\n",
    "    p_table0 = pd.concat( [pd.DataFrame(list(trainPredict[(len(trainPredict)-1)])).reset_index(drop=True),X_lstm.iloc[(split-lag):(split),0:13].reset_index(drop=True)],axis =1)\n",
    "    r_table0 = pd.concat( [pd.DataFrame(list(train_y[(len(train_y)-1)])).reset_index(drop=True),X_lstm.iloc[(split-lag):(split),0:13].reset_index(drop=True)],axis =1)\n",
    "\n",
    "    r_table1 = pd.DataFrame(scaler.inverse_transform(r_table0))\n",
    "    #r_table1 = r_table1.iloc[0:split,:]\n",
    "    p_table1 = pd.DataFrame(scaler.inverse_transform(p_table0))\n",
    "\n",
    "    tt1 = X_lstm.iloc[(split):(len(X_lstm)),0:len(cols)]\n",
    "    #tt1.set_index(tt.index)\n",
    "    tt1['app_rsp']=list(testPredict[(len(testPredict)-1)])\n",
    "    cols = tt1.columns.tolist()\n",
    "    cols = cols[-1:] + cols[:-1]\n",
    "    p_table_test0 = tt1[cols]\n",
    "    #p_table0 = p_table.dropna()\n",
    "    p_table_test0.head()\n",
    "\n",
    "    tt1 = X_lstm.iloc[(split):(len(X_lstm)),0:len(cols)]\n",
    "    #tt1.set_index(tt.index)\n",
    "    tt1['app_rsp']=list(test_y[(len(test_y)-1)])\n",
    "    cols = tt1.columns.tolist()\n",
    "    cols = cols[-1:] + cols[:-1]\n",
    "    r_table_test0 = tt1[cols]\n",
    "    #p_table0 = p_table.dropna()\n",
    "    r_table_test0.head()\n",
    "\n",
    "    # invert predictions\n",
    "    r_table_test = pd.DataFrame(scaler.inverse_transform(r_table_test0))\n",
    "    #r_table1 = r_table0.iloc[0:split,:]\n",
    "    p_table_test = pd.DataFrame(scaler.inverse_transform(p_table_test0))\n",
    "    \n",
    "    ### Train and test mape finding \n",
    "    \n",
    "    \n",
    "    compare_train  = pd.DataFrame({'train_real':r_table1.iloc[:,0],\n",
    "                                   'train_pred':p_table1.iloc[:,0]})\n",
    "    compare_train['error'] = abs(compare_train['train_real'] - compare_train['train_pred'])\n",
    "    compare_train['perc_error'] = compare_train['error']/compare_train['train_real']*100\n",
    "    lstm_mape_train = compare_train.perc_error.mean()\n",
    "    print('MAPE of train = ',lstm_mape_train)\n",
    "    lstm_rmse_train = math.sqrt(mean_squared_error(compare_train['train_real'], compare_train['train_pred']))\n",
    "    print(\"rmse of train = \",lstm_rmse_train)\n",
    "\n",
    "    compare_test  = pd.DataFrame({'test_real':r_table_test.iloc[:,0],\n",
    "                                   'test_pred':p_table_test.iloc[:,0]})\n",
    "    compare_test['error'] = abs(compare_test['test_real'] - compare_test['test_pred'])\n",
    "    compare_test['perc_error'] = compare_test['error']/compare_test['test_real']*100\n",
    "    lstm_mape_test = compare_test.perc_error.mean()\n",
    "    print('MAPE of test = ',lstm_mape_test)\n",
    "    lstm_rmse_test = math.sqrt(mean_squared_error(compare_test['test_real'], compare_test['test_pred']))\n",
    "    print(\"rmse of test = \",lstm_rmse_test)\n",
    "    \n",
    "    q98=compare_test['perc_error'].quantile(0.98)\n",
    "    mape_q98_test =compare_test['perc_error'][compare_test.perc_error<compare_test['perc_error'].quantile(0.98)].mean()\n",
    "    \n",
    "    \n",
    "    #mm ='lstm'\n",
    "    df = pd.DataFrame({#'Model':[mm],#'predicted_t':[forcast_lag],\n",
    "                        #'clipped_point':[round(clipped,2)],\n",
    "                         \n",
    "                         'train_rmse':[round(lstm_rmse_train,2)],\n",
    "                         'test_rmse':[round(lstm_rmse_test,2)],\n",
    "                         'train_mape':[round(lstm_mape_train,2)],\n",
    "                         'test_mape':[round(lstm_mape_test,2)],\n",
    "                       #'train_mape_98':[round(lstm_q98,2)],\n",
    "                       'test_mape_98':[round(mape_q98_test,2)]\n",
    "                      })\n",
    "    return df,compare_train,compare_test,r_lstm\n",
    "    \n"
   ]
  },
  {
   "cell_type": "code",
   "execution_count": 21,
   "metadata": {},
   "outputs": [],
   "source": [
    "from sklearn.preprocessing import RobustScaler\n",
    "\n",
    "def lstm_wt_new1(data_l_ew_g_lstm,lag):\n",
    "    \n",
    "    #take all input except date column\n",
    "    #data_l_ew_g_lstm = data_l_ew_g_lstm.iloc[:,0:13].copy()\n",
    "    data_l_ew_g_lstm1 = data_l_ew_g_lstm.copy()\n",
    "    cols = data_l_ew_g_lstm.columns\n",
    "    \n",
    "    ###### Removing the outlier ######\n",
    "    #cutter = data_l_ew_g_lstm['app_rsp_time'].quantile(.90)\n",
    "    #data_l_ew_g_lstm.loc[data_l_ew_g_lstm['app_rsp_time']> cutter,'app_rsp_time']= cutter\n",
    "    #data_l_ew_g_lstm['app_rsp_time'] = np.log(data_l_ew_g_lstm['app_rsp_time'])\n",
    "    \n",
    "    #filter all inputs except 'app_rsp_time','weekday','hour','byte_count'\n",
    "#    for c in data_l_ew_g_lstm.columns:\n",
    "#        if(c in ['app_rsp_time','weekday','hour','byte_count']):\n",
    "#            continue\n",
    "#        y1=deno_filter(data_l_ew_g_lstm[c])\n",
    "#        if(len(y1)!=len(data_l_ew_g_lstm)):\n",
    "#            y1 = deno_filter1(data_l_ew_g_lstm[c])\n",
    "#        data_l_ew_g_lstm[c]=y1\n",
    "\n",
    "    # normalize the dataset\n",
    "    #scaler = MinMaxScaler(feature_range=(0, 1))\n",
    "    scaler1=RobustScaler(quantile_range=(5,95))\n",
    "    scaler2=RobustScaler(quantile_range=(5,95))\n",
    "    #data_l_ew_g_lstm = pd.DataFrame(scaler.fit_transform(data_l_ew_g_lstm))\n",
    "\n",
    "\n",
    "    import numpy as np\n",
    "    #X_lstm = pd.concat([data_l_ew_history.iloc[:,1:13],data_l_ew_history.iloc[:,14:16]],axis=1)#.values\n",
    "    X_lstm = data_l_ew_g_lstm.iloc[:,1:len(cols)]\n",
    "    y_lstm_init = pd.DataFrame(data_l_ew_g_lstm.iloc[:,0])\n",
    "    \n",
    "    y_output = pd.DataFrame()\n",
    "    \n",
    "    for i in range(1,(lag+1)):\n",
    "        name_z='y'+str(i)\n",
    "        ff =lstm_shifter(y_lstm_init,i)\n",
    "        \n",
    "        #y_output[name_z]=list(ff.iloc[0:len(ff)-(lag-1-i),0])\n",
    "        y_output[name_z]=list(ff.iloc[0:len(X_lstm)-(lag),0])\n",
    "        \n",
    "    \n",
    "    y_lstm1= y_output.copy()\n",
    "    X_lstm1 = X_lstm.copy()\n",
    "\n",
    "    \n",
    "\n",
    "    split = int(len(y_lstm1)-(lag))\n",
    "    #train_x = X_lstm1.iloc[0:split-(lag-1),:].values\n",
    "    #test_x = X_lstm1.iloc[(split-lag):(split-1),:].values\n",
    "    \n",
    "    train_x = X_lstm1.iloc[0:split,:].values\n",
    "    test_x = X_lstm1.iloc[split:len(y_lstm1),:].values\n",
    "    \n",
    "\n",
    "    #train_y = y_lstm1.iloc[0:split-(lag-1),:].values\n",
    "    #test_y = y_lstm1.iloc[(split-lag):(split-1),:].values\n",
    "    train_y = y_lstm1.iloc[0:split,:].values\n",
    "    test_y = y_lstm1.iloc[split:len(y_lstm1),:].values\n",
    "    \n",
    "    # Normalisijng using robust scaler\n",
    "    scaler1 = scaler1.fit(train_x) \n",
    "    train_x = scaler1.transform(train_x)\n",
    "    test_x = scaler1.transform(test_x)\n",
    "    \n",
    "    scaler2 = scaler2.fit(train_y) \n",
    "    train_y = scaler2.transform(train_y)\n",
    "    test_y = scaler2.transform(test_y)\n",
    "\n",
    "    train_x = train_x.reshape(train_x.shape[0],1,train_x.shape[1])\n",
    "    test_x = test_x.reshape(test_x.shape[0],1,test_x.shape[1])\n",
    "\n",
    "    \n",
    "        \n",
    "    model_m2=Sequential()\n",
    "    model_m2.add(LSTM(12, dropout=0.2,input_shape=(1,len(cols)-1),\n",
    "                  batch_input_shape=(1, train_x.shape[1], train_x.shape[2]), stateful=True))\n",
    "    model_m2.add(Dense(8, activation='relu'))\n",
    "    model_m2.add(Dropout(0.2))\n",
    "    model_m2.add(Dense(6, activation='relu'))\n",
    "    model_m2.add(Dropout(0.1))\n",
    "    model_m2.add(Dense(lag, activation='relu'))\n",
    "    model_m2.summary()\n",
    "    \n",
    "    model_m2.compile(optimizer='rmsprop',\n",
    "                  loss='mse')\n",
    "    \n",
    "    \n",
    "\n",
    "    r_lstm = model_m2.fit(train_x, train_y, epochs=10, batch_size=1,verbose=2 ,\n",
    "                          validation_data=(test_x,test_y) , shuffle=False)\n",
    "\n",
    "    model_m2.reset_states()\n",
    "   \n",
    "    \n",
    "    # make predictions\n",
    "    trainPredict = model_m2.predict(train_x,batch_size=1)\n",
    "    testPredict = model_m2.predict(test_x,batch_size=1)\n",
    "        \n",
    "    \n",
    "    \n",
    "    # Invert predictions\n",
    "    \n",
    "    trainPredict1 = scaler2.inverse_transform(trainPredict)\n",
    "    testPredict1 = scaler2.inverse_transform(testPredict)\n",
    "    train_y1 = scaler2.inverse_transform(train_y)\n",
    "    test_y1 = scaler2.inverse_transform(test_y)\n",
    "    \n",
    "    \n",
    "    \n",
    "    ### Train and test mape finding \n",
    "    \n",
    "    \n",
    "    compare_train  = pd.DataFrame({'actual':list(train_y1[(len(train_y1)-1)]),\n",
    "                                   'predicted':list(trainPredict1[(len(trainPredict1)-1)])})\n",
    "    compare_train['error'] = abs(compare_train['actual'] - compare_train['predicted'])\n",
    "    compare_train['perc_error'] = compare_train['error']/compare_train['actual']*100\n",
    "    lstm_mape_train = compare_train.perc_error.mean()\n",
    "    print('MAPE of train = ',lstm_mape_train)\n",
    "    lstm_rmse_train = math.sqrt(mean_squared_error(compare_train['actual'], compare_train['predicted']))\n",
    "    print(\"rmse of train = \",lstm_rmse_train)\n",
    "\n",
    "    compare_test  = pd.DataFrame({'actual':list(test_y1[(len(test_y1)-1)]),\n",
    "                                   'predicted':list(testPredict1[(len(testPredict1)-1)])})\n",
    "    compare_test['error'] = abs(compare_test['actual'] - compare_test['predicted'])\n",
    "    compare_test['perc_error'] = compare_test['error']/compare_test['actual']*100\n",
    "    lstm_mape_test = compare_test.perc_error.mean()\n",
    "    print('MAPE of test = ',lstm_mape_test)\n",
    "    lstm_rmse_test = math.sqrt(mean_squared_error(compare_test['actual'], compare_test['predicted']))\n",
    "    print(\"rmse of test = \",lstm_rmse_test)\n",
    "    \n",
    "    q98=compare_test['perc_error'].quantile(0.98)\n",
    "    mape_q98_test =compare_test['perc_error'][compare_test.perc_error<compare_test['perc_error'].quantile(0.98)].mean()\n",
    "    \n",
    "    \n",
    "    #mm ='lstm'\n",
    "    df = pd.DataFrame({#'Model':[mm],#'predicted_t':[forcast_lag],\n",
    "                        #'clipped_point':[round(clipped,2)],\n",
    "                         \n",
    "                         'train_rmse':[round(lstm_rmse_train,2)],\n",
    "                         'test_rmse':[round(lstm_rmse_test,2)],\n",
    "                         'train_mape':[round(lstm_mape_train,2)],\n",
    "                         'test_mape':[round(lstm_mape_test,2)],\n",
    "                       #'train_mape_98':[round(lstm_q98,2)],\n",
    "                       'test_mape_98':[round(mape_q98_test,2)]\n",
    "                      })\n",
    "    return df,compare_train,compare_test,r_lstm"
   ]
  },
  {
   "cell_type": "markdown",
   "metadata": {},
   "source": [
    "### Running lstm model for selected application-source model"
   ]
  },
  {
   "cell_type": "code",
   "execution_count": 26,
   "metadata": {
    "scrolled": true
   },
   "outputs": [
    {
     "name": "stderr",
     "output_type": "stream",
     "text": [
      "  0%|          | 0/5 [00:00<?, ?it/s]/opt/conda/lib/python3.6/site-packages/pyspark/sql/dataframe.py:138: DeprecationWarning: Deprecated in 2.0, use createOrReplaceTempView instead.\n",
      "  \"Deprecated in 2.0, use createOrReplaceTempView instead.\", DeprecationWarning)\n"
     ]
    },
    {
     "name": "stdout",
     "output_type": "stream",
     "text": [
      "_________________________________________________________________\n",
      "Layer (type)                 Output Shape              Param #   \n",
      "=================================================================\n",
      "lstm_2 (LSTM)                (1, 12)                   1008      \n",
      "_________________________________________________________________\n",
      "dense_4 (Dense)              (1, 8)                    104       \n",
      "_________________________________________________________________\n",
      "dropout_3 (Dropout)          (1, 8)                    0         \n",
      "_________________________________________________________________\n",
      "dense_5 (Dense)              (1, 6)                    54        \n",
      "_________________________________________________________________\n",
      "dropout_4 (Dropout)          (1, 6)                    0         \n",
      "_________________________________________________________________\n",
      "dense_6 (Dense)              (1, 30)                   210       \n",
      "=================================================================\n",
      "Total params: 1,376\n",
      "Trainable params: 1,376\n",
      "Non-trainable params: 0\n",
      "_________________________________________________________________\n",
      "Train on 23 samples, validate on 30 samples\n",
      "Epoch 1/10\n",
      " - 1s - loss: 0.1108 - val_loss: 0.6906\n",
      "Epoch 2/10\n",
      " - 0s - loss: 0.1098 - val_loss: 0.6891\n",
      "Epoch 3/10\n",
      " - 0s - loss: 0.1092 - val_loss: 0.6905\n",
      "Epoch 4/10\n",
      " - 0s - loss: 0.1089 - val_loss: 0.6898\n",
      "Epoch 5/10\n",
      " - 0s - loss: 0.1067 - val_loss: 0.6886\n",
      "Epoch 6/10\n",
      " - 0s - loss: 0.1076 - val_loss: 0.6883\n",
      "Epoch 7/10\n",
      " - 0s - loss: 0.1088 - val_loss: 0.6877\n",
      "Epoch 8/10\n",
      " - 0s - loss: 0.1085 - val_loss: 0.6891\n",
      "Epoch 9/10\n",
      " - 0s - loss: 0.1076 - val_loss: 0.6878\n",
      "Epoch 10/10\n",
      " - 0s - loss: 0.1077 - val_loss: 0.6871\n",
      "MAPE of train =  5.89929019128663\n",
      "rmse of train =  4323.772726838292\n",
      "MAPE of test =  13.593079886204842\n",
      "rmse of test =  13987.541015018061\n",
      "_________________________________________________________________\n",
      "Layer (type)                 Output Shape              Param #   \n",
      "=================================================================\n",
      "lstm_3 (LSTM)                (1, 12)                   1008      \n",
      "_________________________________________________________________\n",
      "dense_7 (Dense)              (1, 8)                    104       \n",
      "_________________________________________________________________\n",
      "dropout_5 (Dropout)          (1, 8)                    0         \n",
      "_________________________________________________________________\n",
      "dense_8 (Dense)              (1, 6)                    54        \n",
      "_________________________________________________________________\n",
      "dropout_6 (Dropout)          (1, 6)                    0         \n",
      "_________________________________________________________________\n",
      "dense_9 (Dense)              (1, 30)                   210       \n",
      "=================================================================\n",
      "Total params: 1,376\n",
      "Trainable params: 1,376\n",
      "Non-trainable params: 0\n",
      "_________________________________________________________________\n",
      "Train on 31 samples, validate on 30 samples\n",
      "Epoch 1/10\n",
      " - 1s - loss: 0.4148 - val_loss: 3.1135\n",
      "Epoch 2/10\n",
      " - 0s - loss: 0.4144 - val_loss: 3.1170\n",
      "Epoch 3/10\n",
      " - 0s - loss: 0.4142 - val_loss: 3.1192\n",
      "Epoch 4/10\n",
      " - 0s - loss: 0.4135 - val_loss: 3.1273\n",
      "Epoch 5/10\n",
      " - 0s - loss: 0.4110 - val_loss: 3.1376\n",
      "Epoch 6/10\n",
      " - 0s - loss: 0.4107 - val_loss: 3.1425\n",
      "Epoch 7/10\n",
      " - 0s - loss: 0.4113 - val_loss: 3.1388\n",
      "Epoch 8/10\n",
      " - 0s - loss: 0.4101 - val_loss: 3.1488\n",
      "Epoch 9/10\n",
      " - 0s - loss: 0.4119 - val_loss: 3.1458\n",
      "Epoch 10/10\n",
      " - 0s - loss: 0.4104 - val_loss: 3.1440\n"
     ]
    },
    {
     "name": "stderr",
     "output_type": "stream",
     "text": [
      "\r",
      " 20%|██        | 1/5 [01:10<04:43, 70.96s/it]"
     ]
    },
    {
     "name": "stdout",
     "output_type": "stream",
     "text": [
      "MAPE of train =  446.3224744591964\n",
      "rmse of train =  34652.58786660205\n",
      "MAPE of test =  129.02574273761294\n",
      "rmse of test =  28323.616632111614\n",
      "_________________________________________________________________\n",
      "Layer (type)                 Output Shape              Param #   \n",
      "=================================================================\n",
      "lstm_4 (LSTM)                (1, 12)                   1008      \n",
      "_________________________________________________________________\n",
      "dense_10 (Dense)             (1, 8)                    104       \n",
      "_________________________________________________________________\n",
      "dropout_7 (Dropout)          (1, 8)                    0         \n",
      "_________________________________________________________________\n",
      "dense_11 (Dense)             (1, 6)                    54        \n",
      "_________________________________________________________________\n",
      "dropout_8 (Dropout)          (1, 6)                    0         \n",
      "_________________________________________________________________\n",
      "dense_12 (Dense)             (1, 30)                   210       \n",
      "=================================================================\n",
      "Total params: 1,376\n",
      "Trainable params: 1,376\n",
      "Non-trainable params: 0\n",
      "_________________________________________________________________\n",
      "Train on 23 samples, validate on 30 samples\n",
      "Epoch 1/10\n",
      " - 1s - loss: 4.1552 - val_loss: 12.7787\n",
      "Epoch 2/10\n",
      " - 0s - loss: 4.1488 - val_loss: 12.7710\n",
      "Epoch 3/10\n",
      " - 0s - loss: 4.1453 - val_loss: 12.7622\n",
      "Epoch 4/10\n",
      " - 0s - loss: 4.1412 - val_loss: 12.7529\n",
      "Epoch 5/10\n",
      " - 0s - loss: 4.1424 - val_loss: 12.7487\n",
      "Epoch 6/10\n",
      " - 0s - loss: 4.1368 - val_loss: 12.7419\n",
      "Epoch 7/10\n",
      " - 0s - loss: 4.1296 - val_loss: 12.7348\n",
      "Epoch 8/10\n",
      " - 0s - loss: 4.1267 - val_loss: 12.7270\n",
      "Epoch 9/10\n",
      " - 0s - loss: 4.1246 - val_loss: 12.7185\n",
      "Epoch 10/10\n",
      " - 0s - loss: 4.1334 - val_loss: 12.7146\n",
      "MAPE of train =  24.52914312425524\n",
      "rmse of train =  32685.266896258814\n",
      "MAPE of test =  23.653550137141945\n",
      "rmse of test =  5003.894041393226\n",
      "_________________________________________________________________\n",
      "Layer (type)                 Output Shape              Param #   \n",
      "=================================================================\n",
      "lstm_5 (LSTM)                (1, 12)                   1008      \n",
      "_________________________________________________________________\n",
      "dense_13 (Dense)             (1, 8)                    104       \n",
      "_________________________________________________________________\n",
      "dropout_9 (Dropout)          (1, 8)                    0         \n",
      "_________________________________________________________________\n",
      "dense_14 (Dense)             (1, 6)                    54        \n",
      "_________________________________________________________________\n",
      "dropout_10 (Dropout)         (1, 6)                    0         \n",
      "_________________________________________________________________\n",
      "dense_15 (Dense)             (1, 30)                   210       \n",
      "=================================================================\n",
      "Total params: 1,376\n",
      "Trainable params: 1,376\n",
      "Non-trainable params: 0\n",
      "_________________________________________________________________\n",
      "Train on 31 samples, validate on 30 samples\n",
      "Epoch 1/10\n",
      " - 1s - loss: 0.2907 - val_loss: 0.2574\n",
      "Epoch 2/10\n",
      " - 0s - loss: 0.2874 - val_loss: 0.2541\n",
      "Epoch 3/10\n",
      " - 0s - loss: 0.2839 - val_loss: 0.2513\n",
      "Epoch 4/10\n",
      " - 0s - loss: 0.2812 - val_loss: 0.2489\n",
      "Epoch 5/10\n",
      " - 0s - loss: 0.2807 - val_loss: 0.2474\n",
      "Epoch 6/10\n",
      " - 0s - loss: 0.2829 - val_loss: 0.2465\n",
      "Epoch 7/10\n",
      " - 0s - loss: 0.2829 - val_loss: 0.2461\n",
      "Epoch 8/10\n",
      " - 0s - loss: 0.2790 - val_loss: 0.2450\n",
      "Epoch 9/10\n",
      " - 0s - loss: 0.2793 - val_loss: 0.2443\n",
      "Epoch 10/10\n",
      " - 0s - loss: 0.2792 - val_loss: 0.2436\n"
     ]
    },
    {
     "name": "stderr",
     "output_type": "stream",
     "text": [
      "\r",
      " 40%|████      | 2/5 [02:17<03:28, 69.55s/it]"
     ]
    },
    {
     "name": "stdout",
     "output_type": "stream",
     "text": [
      "MAPE of train =  32.31559330963227\n",
      "rmse of train =  28024.218126822692\n",
      "MAPE of test =  132.97792920822977\n",
      "rmse of test =  35743.41591221252\n",
      "_________________________________________________________________\n",
      "Layer (type)                 Output Shape              Param #   \n",
      "=================================================================\n",
      "lstm_6 (LSTM)                (1, 12)                   1008      \n",
      "_________________________________________________________________\n",
      "dense_16 (Dense)             (1, 8)                    104       \n",
      "_________________________________________________________________\n",
      "dropout_11 (Dropout)         (1, 8)                    0         \n",
      "_________________________________________________________________\n",
      "dense_17 (Dense)             (1, 6)                    54        \n",
      "_________________________________________________________________\n",
      "dropout_12 (Dropout)         (1, 6)                    0         \n",
      "_________________________________________________________________\n",
      "dense_18 (Dense)             (1, 30)                   210       \n",
      "=================================================================\n",
      "Total params: 1,376\n",
      "Trainable params: 1,376\n",
      "Non-trainable params: 0\n",
      "_________________________________________________________________\n",
      "Train on 23 samples, validate on 30 samples\n",
      "Epoch 1/10\n",
      " - 1s - loss: 0.1418 - val_loss: 0.1933\n",
      "Epoch 2/10\n",
      " - 0s - loss: 0.1407 - val_loss: 0.1925\n",
      "Epoch 3/10\n",
      " - 0s - loss: 0.1395 - val_loss: 0.1920\n",
      "Epoch 4/10\n",
      " - 0s - loss: 0.1402 - val_loss: 0.1917\n",
      "Epoch 5/10\n",
      " - 0s - loss: 0.1393 - val_loss: 0.1915\n",
      "Epoch 6/10\n",
      " - 0s - loss: 0.1387 - val_loss: 0.1915\n",
      "Epoch 7/10\n",
      " - 0s - loss: 0.1375 - val_loss: 0.1919\n",
      "Epoch 8/10\n",
      " - 0s - loss: 0.1355 - val_loss: 0.1915\n",
      "Epoch 9/10\n",
      " - 0s - loss: 0.1348 - val_loss: 0.1909\n",
      "Epoch 10/10\n",
      " - 0s - loss: 0.1349 - val_loss: 0.1905\n",
      "MAPE of train =  106.32441080585278\n",
      "rmse of train =  133101.3096545605\n",
      "MAPE of test =  141.37246749923014\n",
      "rmse of test =  208232.7206083557\n",
      "_________________________________________________________________\n",
      "Layer (type)                 Output Shape              Param #   \n",
      "=================================================================\n",
      "lstm_7 (LSTM)                (1, 12)                   1008      \n",
      "_________________________________________________________________\n",
      "dense_19 (Dense)             (1, 8)                    104       \n",
      "_________________________________________________________________\n",
      "dropout_13 (Dropout)         (1, 8)                    0         \n",
      "_________________________________________________________________\n",
      "dense_20 (Dense)             (1, 6)                    54        \n",
      "_________________________________________________________________\n",
      "dropout_14 (Dropout)         (1, 6)                    0         \n",
      "_________________________________________________________________\n",
      "dense_21 (Dense)             (1, 30)                   210       \n",
      "=================================================================\n",
      "Total params: 1,376\n",
      "Trainable params: 1,376\n",
      "Non-trainable params: 0\n",
      "_________________________________________________________________\n",
      "Train on 31 samples, validate on 30 samples\n",
      "Epoch 1/10\n",
      " - 2s - loss: 0.1703 - val_loss: 0.4076\n",
      "Epoch 2/10\n",
      " - 0s - loss: 0.1745 - val_loss: 0.3916\n",
      "Epoch 3/10\n",
      " - 0s - loss: 0.1717 - val_loss: 0.3863\n",
      "Epoch 4/10\n",
      " - 0s - loss: 0.1710 - val_loss: 0.3775\n",
      "Epoch 5/10\n",
      " - 0s - loss: 0.1704 - val_loss: 0.3705\n",
      "Epoch 6/10\n",
      " - 0s - loss: 0.1687 - val_loss: 0.3634\n",
      "Epoch 7/10\n",
      " - 0s - loss: 0.1673 - val_loss: 0.3586\n",
      "Epoch 8/10\n",
      " - 0s - loss: 0.1668 - val_loss: 0.3557\n",
      "Epoch 9/10\n",
      " - 0s - loss: 0.1663 - val_loss: 0.3541\n",
      "Epoch 10/10\n",
      " - 0s - loss: 0.1647 - val_loss: 0.3523\n"
     ]
    },
    {
     "name": "stderr",
     "output_type": "stream",
     "text": [
      "\r",
      " 60%|██████    | 3/5 [03:23<02:17, 68.51s/it]"
     ]
    },
    {
     "name": "stdout",
     "output_type": "stream",
     "text": [
      "MAPE of train =  417.4971634429952\n",
      "rmse of train =  334162.2520204678\n",
      "MAPE of test =  310.1454695822596\n",
      "rmse of test =  285537.44519962656\n",
      "_________________________________________________________________\n",
      "Layer (type)                 Output Shape              Param #   \n",
      "=================================================================\n",
      "lstm_8 (LSTM)                (1, 12)                   1008      \n",
      "_________________________________________________________________\n",
      "dense_22 (Dense)             (1, 8)                    104       \n",
      "_________________________________________________________________\n",
      "dropout_15 (Dropout)         (1, 8)                    0         \n",
      "_________________________________________________________________\n",
      "dense_23 (Dense)             (1, 6)                    54        \n",
      "_________________________________________________________________\n",
      "dropout_16 (Dropout)         (1, 6)                    0         \n",
      "_________________________________________________________________\n",
      "dense_24 (Dense)             (1, 30)                   210       \n",
      "=================================================================\n",
      "Total params: 1,376\n",
      "Trainable params: 1,376\n",
      "Non-trainable params: 0\n",
      "_________________________________________________________________\n",
      "Train on 23 samples, validate on 30 samples\n",
      "Epoch 1/10\n",
      " - 2s - loss: 0.1554 - val_loss: 0.3622\n",
      "Epoch 2/10\n",
      " - 0s - loss: 0.1550 - val_loss: 0.3617\n",
      "Epoch 3/10\n",
      " - 0s - loss: 0.1551 - val_loss: 0.3606\n",
      "Epoch 4/10\n",
      " - 0s - loss: 0.1544 - val_loss: 0.3596\n",
      "Epoch 5/10\n",
      " - 0s - loss: 0.1547 - val_loss: 0.3588\n",
      "Epoch 6/10\n",
      " - 0s - loss: 0.1536 - val_loss: 0.3579\n",
      "Epoch 7/10\n",
      " - 0s - loss: 0.1545 - val_loss: 0.3578\n",
      "Epoch 8/10\n",
      " - 0s - loss: 0.1534 - val_loss: 0.3568\n",
      "Epoch 9/10\n",
      " - 0s - loss: 0.1535 - val_loss: 0.3557\n",
      "Epoch 10/10\n",
      " - 0s - loss: 0.1524 - val_loss: 0.3551\n",
      "MAPE of train =  9.46869720325407\n",
      "rmse of train =  9087.060208941313\n",
      "MAPE of test =  20.98971115306404\n",
      "rmse of test =  31370.194204840034\n",
      "_________________________________________________________________\n",
      "Layer (type)                 Output Shape              Param #   \n",
      "=================================================================\n",
      "lstm_9 (LSTM)                (1, 12)                   1008      \n",
      "_________________________________________________________________\n",
      "dense_25 (Dense)             (1, 8)                    104       \n",
      "_________________________________________________________________\n",
      "dropout_17 (Dropout)         (1, 8)                    0         \n",
      "_________________________________________________________________\n",
      "dense_26 (Dense)             (1, 6)                    54        \n",
      "_________________________________________________________________\n",
      "dropout_18 (Dropout)         (1, 6)                    0         \n",
      "_________________________________________________________________\n",
      "dense_27 (Dense)             (1, 30)                   210       \n",
      "=================================================================\n",
      "Total params: 1,376\n",
      "Trainable params: 1,376\n",
      "Non-trainable params: 0\n",
      "_________________________________________________________________\n",
      "Train on 31 samples, validate on 30 samples\n",
      "Epoch 1/10\n",
      " - 2s - loss: 0.1684 - val_loss: 0.9540\n",
      "Epoch 2/10\n",
      " - 0s - loss: 0.1680 - val_loss: 0.9545\n",
      "Epoch 3/10\n",
      " - 0s - loss: 0.1680 - val_loss: 0.9550\n",
      "Epoch 4/10\n",
      " - 0s - loss: 0.1679 - val_loss: 0.9561\n",
      "Epoch 5/10\n",
      " - 0s - loss: 0.1668 - val_loss: 0.9568\n",
      "Epoch 6/10\n",
      " - 0s - loss: 0.1669 - val_loss: 0.9582\n",
      "Epoch 7/10\n",
      " - 0s - loss: 0.1656 - val_loss: 0.9600\n",
      "Epoch 8/10\n",
      " - 0s - loss: 0.1656 - val_loss: 0.9611\n",
      "Epoch 9/10\n",
      " - 0s - loss: 0.1655 - val_loss: 0.9613\n",
      "Epoch 10/10\n",
      " - 0s - loss: 0.1651 - val_loss: 0.9623\n"
     ]
    },
    {
     "name": "stderr",
     "output_type": "stream",
     "text": [
      "\r",
      " 80%|████████  | 4/5 [04:31<01:08, 68.41s/it]"
     ]
    },
    {
     "name": "stdout",
     "output_type": "stream",
     "text": [
      "MAPE of train =  49.738542265189366\n",
      "rmse of train =  15856.789475251604\n",
      "MAPE of test =  32.733902527942774\n",
      "rmse of test =  19031.79950612703\n",
      "_________________________________________________________________\n",
      "Layer (type)                 Output Shape              Param #   \n",
      "=================================================================\n",
      "lstm_10 (LSTM)               (1, 12)                   1008      \n",
      "_________________________________________________________________\n",
      "dense_28 (Dense)             (1, 8)                    104       \n",
      "_________________________________________________________________\n",
      "dropout_19 (Dropout)         (1, 8)                    0         \n",
      "_________________________________________________________________\n",
      "dense_29 (Dense)             (1, 6)                    54        \n",
      "_________________________________________________________________\n",
      "dropout_20 (Dropout)         (1, 6)                    0         \n",
      "_________________________________________________________________\n",
      "dense_30 (Dense)             (1, 30)                   210       \n",
      "=================================================================\n",
      "Total params: 1,376\n",
      "Trainable params: 1,376\n",
      "Non-trainable params: 0\n",
      "_________________________________________________________________\n",
      "Train on 23 samples, validate on 30 samples\n",
      "Epoch 1/10\n",
      " - 2s - loss: 0.1867 - val_loss: 0.8286\n",
      "Epoch 2/10\n",
      " - 0s - loss: 0.1875 - val_loss: 0.8357\n",
      "Epoch 3/10\n",
      " - 0s - loss: 0.1883 - val_loss: 0.8407\n",
      "Epoch 4/10\n",
      " - 0s - loss: 0.1860 - val_loss: 0.8445\n",
      "Epoch 5/10\n",
      " - 0s - loss: 0.1867 - val_loss: 0.8433\n",
      "Epoch 6/10\n",
      " - 0s - loss: 0.1857 - val_loss: 0.8437\n",
      "Epoch 7/10\n",
      " - 0s - loss: 0.1843 - val_loss: 0.8415\n",
      "Epoch 8/10\n",
      " - 0s - loss: 0.1844 - val_loss: 0.8389\n",
      "Epoch 9/10\n",
      " - 0s - loss: 0.1826 - val_loss: 0.8363\n",
      "Epoch 10/10\n",
      " - 0s - loss: 0.1813 - val_loss: 0.8296\n",
      "MAPE of train =  15.922784693640747\n",
      "rmse of train =  15607.924913616267\n",
      "MAPE of test =  31.927163233916794\n",
      "rmse of test =  30746.055254929117\n",
      "_________________________________________________________________\n",
      "Layer (type)                 Output Shape              Param #   \n",
      "=================================================================\n",
      "lstm_11 (LSTM)               (1, 12)                   1008      \n",
      "_________________________________________________________________\n",
      "dense_31 (Dense)             (1, 8)                    104       \n",
      "_________________________________________________________________\n",
      "dropout_21 (Dropout)         (1, 8)                    0         \n",
      "_________________________________________________________________\n",
      "dense_32 (Dense)             (1, 6)                    54        \n",
      "_________________________________________________________________\n",
      "dropout_22 (Dropout)         (1, 6)                    0         \n",
      "_________________________________________________________________\n",
      "dense_33 (Dense)             (1, 30)                   210       \n",
      "=================================================================\n",
      "Total params: 1,376\n",
      "Trainable params: 1,376\n",
      "Non-trainable params: 0\n",
      "_________________________________________________________________\n",
      "Train on 31 samples, validate on 30 samples\n",
      "Epoch 1/10\n",
      " - 2s - loss: 0.1066 - val_loss: 0.5213\n",
      "Epoch 2/10\n",
      " - 0s - loss: 0.1060 - val_loss: 0.5210\n",
      "Epoch 3/10\n",
      " - 0s - loss: 0.1055 - val_loss: 0.5219\n",
      "Epoch 4/10\n",
      " - 0s - loss: 0.1060 - val_loss: 0.5211\n",
      "Epoch 5/10\n",
      " - 0s - loss: 0.1053 - val_loss: 0.5226\n",
      "Epoch 6/10\n",
      " - 0s - loss: 0.1052 - val_loss: 0.5235\n",
      "Epoch 7/10\n",
      " - 0s - loss: 0.1048 - val_loss: 0.5247\n",
      "Epoch 8/10\n",
      " - 0s - loss: 0.1045 - val_loss: 0.5246\n",
      "Epoch 9/10\n",
      " - 0s - loss: 0.1039 - val_loss: 0.5253\n",
      "Epoch 10/10\n",
      " - 0s - loss: 0.1040 - val_loss: 0.5271\n"
     ]
    },
    {
     "name": "stderr",
     "output_type": "stream",
     "text": [
      "\r",
      "100%|██████████| 5/5 [05:41<00:00, 68.93s/it]"
     ]
    },
    {
     "name": "stdout",
     "output_type": "stream",
     "text": [
      "MAPE of train =  28.34652141341763\n",
      "rmse of train =  6431.2775783095085\n",
      "MAPE of test =  35.94626403144103\n",
      "rmse of test =  6877.350481467575\n"
     ]
    },
    {
     "name": "stderr",
     "output_type": "stream",
     "text": [
      "\n"
     ]
    }
   ],
   "source": [
    "\n",
    "\n",
    "a = ap_list[0]\n",
    "s = s_list[0]\n",
    "lstm_analysis_df_full = pd.DataFrame()\n",
    "\n",
    "for a in tqdm(ap_list):\n",
    "    for s in s_list:\n",
    "        qt1 = datetime.now()\n",
    "        data = df[(df.application == a ) & (df.source==s)]\n",
    "\n",
    "        df_t = data.registerTempTable('dummy')\n",
    "        df_t = sqlContext.sql('select avg(app_rsp_time) as app_rsp_time, time_stamp, avg(byte_count)  as byte_count, avg(flow_count) as flow_count , avg(rx_byte_count) as rx_byte_count , avg(rx_flow_count) as rx_flow_count , avg(tcp_rsp_time) as tcp_rsp_time , avg(tx_byte_count) as tx_byte_count , avg(tx_flow_count) as tx_flow_count from dummy group by source, application, time_stamp')\n",
    "\n",
    "\n",
    "        # data cleaning\n",
    "        df_t = df_t[df_t.app_rsp_time!=0]\n",
    "        app_rsp_time_df=df_t.toPandas() \n",
    "\n",
    "   \n",
    "        app_rsp_time_df = app_rsp_time_df.sort_values(by='app_rsp_time',ascending=True)       \n",
    "        dates_outlook = pd.to_datetime(pd.Series(app_rsp_time_df.time_stamp),unit='ms')\n",
    "        app_rsp_time_df.index = dates_outlook   \n",
    "        app_rsp_time_df = app_rsp_time_df.sort_values(by='time_stamp')\n",
    "\n",
    "        app_rsp_time_df['date'] = app_rsp_time_df.index.date\n",
    "        del app_rsp_time_df['time_stamp']\n",
    "\n",
    "        app_rsp_time_df = app_rsp_time_df.reset_index()\n",
    "        weekday = app_rsp_time_df.time_stamp.dt.weekday\n",
    "        app_rsp_time_df['weekday'] = weekday\n",
    "        del app_rsp_time_df['time_stamp']\n",
    "\n",
    "        app_rsp_time_df = pd.DataFrame(app_rsp_time_df.groupby(by='date')['app_rsp_time','byte_count','flow_count','rx_byte_count','rx_flow_count', 'tcp_rsp_time', 'tx_byte_count', 'tx_flow_count','weekday'].max())\n",
    "\n",
    "        analyse_df,comare_train,compare_test,history=lstm_wt_new1(app_rsp_time_df,30)\n",
    "        lstm_analysis_df_full = lstm_analysis_df_full.append(analyse_df)"
   ]
  },
  {
   "cell_type": "markdown",
   "metadata": {},
   "source": [
    "It takes 32 seconds to run for an individual combination ."
   ]
  },
  {
   "cell_type": "code",
   "execution_count": 27,
   "metadata": {
    "scrolled": false
   },
   "outputs": [
    {
     "data": {
      "text/html": [
       "<div>\n",
       "<style scoped>\n",
       "    .dataframe tbody tr th:only-of-type {\n",
       "        vertical-align: middle;\n",
       "    }\n",
       "\n",
       "    .dataframe tbody tr th {\n",
       "        vertical-align: top;\n",
       "    }\n",
       "\n",
       "    .dataframe thead th {\n",
       "        text-align: right;\n",
       "    }\n",
       "</style>\n",
       "<table border=\"1\" class=\"dataframe\">\n",
       "  <thead>\n",
       "    <tr style=\"text-align: right;\">\n",
       "      <th></th>\n",
       "      <th>train_rmse</th>\n",
       "      <th>test_rmse</th>\n",
       "      <th>train_mape</th>\n",
       "      <th>test_mape</th>\n",
       "      <th>test_mape_98</th>\n",
       "    </tr>\n",
       "  </thead>\n",
       "  <tbody>\n",
       "    <tr>\n",
       "      <th>0</th>\n",
       "      <td>4323.77</td>\n",
       "      <td>13987.54</td>\n",
       "      <td>5.90</td>\n",
       "      <td>13.59</td>\n",
       "      <td>12.28</td>\n",
       "    </tr>\n",
       "    <tr>\n",
       "      <th>0</th>\n",
       "      <td>34652.59</td>\n",
       "      <td>28323.62</td>\n",
       "      <td>446.32</td>\n",
       "      <td>129.03</td>\n",
       "      <td>28.39</td>\n",
       "    </tr>\n",
       "    <tr>\n",
       "      <th>0</th>\n",
       "      <td>32685.27</td>\n",
       "      <td>5003.89</td>\n",
       "      <td>24.53</td>\n",
       "      <td>23.65</td>\n",
       "      <td>21.72</td>\n",
       "    </tr>\n",
       "    <tr>\n",
       "      <th>0</th>\n",
       "      <td>28024.22</td>\n",
       "      <td>35743.42</td>\n",
       "      <td>32.32</td>\n",
       "      <td>132.98</td>\n",
       "      <td>106.65</td>\n",
       "    </tr>\n",
       "    <tr>\n",
       "      <th>0</th>\n",
       "      <td>133101.31</td>\n",
       "      <td>208232.72</td>\n",
       "      <td>106.32</td>\n",
       "      <td>141.37</td>\n",
       "      <td>115.21</td>\n",
       "    </tr>\n",
       "    <tr>\n",
       "      <th>0</th>\n",
       "      <td>334162.25</td>\n",
       "      <td>285537.45</td>\n",
       "      <td>417.50</td>\n",
       "      <td>310.15</td>\n",
       "      <td>279.31</td>\n",
       "    </tr>\n",
       "    <tr>\n",
       "      <th>0</th>\n",
       "      <td>9087.06</td>\n",
       "      <td>31370.19</td>\n",
       "      <td>9.47</td>\n",
       "      <td>20.99</td>\n",
       "      <td>20.02</td>\n",
       "    </tr>\n",
       "    <tr>\n",
       "      <th>0</th>\n",
       "      <td>15856.79</td>\n",
       "      <td>19031.80</td>\n",
       "      <td>49.74</td>\n",
       "      <td>32.73</td>\n",
       "      <td>17.54</td>\n",
       "    </tr>\n",
       "    <tr>\n",
       "      <th>0</th>\n",
       "      <td>15607.92</td>\n",
       "      <td>30746.06</td>\n",
       "      <td>15.92</td>\n",
       "      <td>31.93</td>\n",
       "      <td>31.43</td>\n",
       "    </tr>\n",
       "    <tr>\n",
       "      <th>0</th>\n",
       "      <td>6431.28</td>\n",
       "      <td>6877.35</td>\n",
       "      <td>28.35</td>\n",
       "      <td>35.95</td>\n",
       "      <td>29.14</td>\n",
       "    </tr>\n",
       "  </tbody>\n",
       "</table>\n",
       "</div>"
      ],
      "text/plain": [
       "   train_rmse  test_rmse  train_mape  test_mape  test_mape_98\n",
       "0     4323.77   13987.54        5.90      13.59         12.28\n",
       "0    34652.59   28323.62      446.32     129.03         28.39\n",
       "0    32685.27    5003.89       24.53      23.65         21.72\n",
       "0    28024.22   35743.42       32.32     132.98        106.65\n",
       "0   133101.31  208232.72      106.32     141.37        115.21\n",
       "0   334162.25  285537.45      417.50     310.15        279.31\n",
       "0     9087.06   31370.19        9.47      20.99         20.02\n",
       "0    15856.79   19031.80       49.74      32.73         17.54\n",
       "0    15607.92   30746.06       15.92      31.93         31.43\n",
       "0     6431.28    6877.35       28.35      35.95         29.14"
      ]
     },
     "execution_count": 27,
     "metadata": {},
     "output_type": "execute_result"
    }
   ],
   "source": [
    "lstm_analysis_df_full"
   ]
  },
  {
   "cell_type": "markdown",
   "metadata": {},
   "source": [
    "#### loss"
   ]
  },
  {
   "cell_type": "code",
   "execution_count": 24,
   "metadata": {
    "scrolled": false
   },
   "outputs": [
    {
     "data": {
      "image/png": "[encoded data removed]",
      "text/plain": [
       "<Figure size 432x288 with 1 Axes>"
      ]
     },
     "metadata": {},
     "output_type": "display_data"
    }
   ],
   "source": [
    "    from matplotlib import pyplot as plt\n",
    "    plt.plot(history.history['loss'])\n",
    "    #plt.plot(history.history['val_loss'])\n",
    "    plt.title('model loss')\n",
    "    plt.ylabel('loss')\n",
    "    plt.xlabel('epoch')\n",
    "    plt.legend(['train'], loc='upper left')\n",
    "    plt.show()"
   ]
  },
  {
   "cell_type": "code",
   "execution_count": 25,
   "metadata": {
    "scrolled": true
   },
   "outputs": [
    {
     "data": {
      "image/png": "[encoded data removed]",
      "text/plain": [
       "<Figure size 432x288 with 1 Axes>"
      ]
     },
     "metadata": {},
     "output_type": "display_data"
    }
   ],
   "source": [
    "    from matplotlib import pyplot as plt\n",
    "    #plt.plot(history.history['loss'])\n",
    "    plt.plot(history.history['val_loss'])\n",
    "    plt.title('model loss')\n",
    "    plt.ylabel('loss')\n",
    "    plt.xlabel('epoch')\n",
    "    plt.legend([ 'test'], loc='upper left')\n",
    "    plt.show()"
   ]
  },
  {
   "cell_type": "markdown",
   "metadata": {},
   "source": [
    "### evaluation example "
   ]
  },
  {
   "cell_type": "code",
   "execution_count": 28,
   "metadata": {
    "scrolled": true
   },
   "outputs": [
    {
     "data": {
      "image/png": "[encoded data removed]",
      "text/plain": [
       "<Figure size 432x288 with 1 Axes>"
      ]
     },
     "metadata": {},
     "output_type": "display_data"
    }
   ],
   "source": [
    "    from matplotlib import pyplot as plt\n",
    "    plt.plot(compare_test['actual'])\n",
    "    plt.plot(compare_test['predicted'])\n",
    "    plt.title('prediction evaluation of '+a+'-'+s)\n",
    "    plt.ylabel('app_rsp_time')\n",
    "    plt.xlabel('day')\n",
    "    plt.legend([ 'actual','predicted'], loc='upper left')\n",
    "    plt.show()"
   ]
  },
  {
   "cell_type": "markdown",
   "metadata": {},
   "source": [
    "#### median of lstm ,xgb and prophet model's test"
   ]
  },
  {
   "cell_type": "code",
   "execution_count": 43,
   "metadata": {},
   "outputs": [
    {
     "data": {
      "text/plain": [
       "(34.34, 29.31, 52.089266699460445)"
      ]
     },
     "execution_count": 43,
     "metadata": {},
     "output_type": "execute_result"
    }
   ],
   "source": [
    "lstm_analysis_df_full.test_mape.quantile(.5) ,xgb_analysis_df_full.test_mape.quantile(.5),prophet_analysis_df_full.test_mape.quantile(.5)"
   ]
  },
  {
   "cell_type": "markdown",
   "metadata": {},
   "source": [
    "## comparing of 3 models"
   ]
  },
  {
   "cell_type": "markdown",
   "metadata": {},
   "source": [
    "#### test_mape"
   ]
  },
  {
   "cell_type": "code",
   "execution_count": 47,
   "metadata": {
    "scrolled": true
   },
   "outputs": [
    {
     "data": {
      "text/html": [
       "<div>\n",
       "<style scoped>\n",
       "    .dataframe tbody tr th:only-of-type {\n",
       "        vertical-align: middle;\n",
       "    }\n",
       "\n",
       "    .dataframe tbody tr th {\n",
       "        vertical-align: top;\n",
       "    }\n",
       "\n",
       "    .dataframe thead th {\n",
       "        text-align: right;\n",
       "    }\n",
       "</style>\n",
       "<table border=\"1\" class=\"dataframe\">\n",
       "  <thead>\n",
       "    <tr style=\"text-align: right;\">\n",
       "      <th></th>\n",
       "      <th>application</th>\n",
       "      <th>source</th>\n",
       "      <th>prophet_mape</th>\n",
       "      <th>lstm_mape</th>\n",
       "      <th>xgb_mape</th>\n",
       "    </tr>\n",
       "  </thead>\n",
       "  <tbody>\n",
       "    <tr>\n",
       "      <th>0</th>\n",
       "      <td>DNS</td>\n",
       "      <td>10.6.1.101</td>\n",
       "      <td>9.901298</td>\n",
       "      <td>13.59</td>\n",
       "      <td>15.33</td>\n",
       "    </tr>\n",
       "    <tr>\n",
       "      <th>1</th>\n",
       "      <td>DNS</td>\n",
       "      <td>134.141.5.104</td>\n",
       "      <td>167.166154</td>\n",
       "      <td>129.03</td>\n",
       "      <td>57.71</td>\n",
       "    </tr>\n",
       "    <tr>\n",
       "      <th>2</th>\n",
       "      <td>DHCP</td>\n",
       "      <td>10.6.1.101</td>\n",
       "      <td>22.045480</td>\n",
       "      <td>23.65</td>\n",
       "      <td>25.32</td>\n",
       "    </tr>\n",
       "    <tr>\n",
       "      <th>3</th>\n",
       "      <td>DHCP</td>\n",
       "      <td>134.141.5.104</td>\n",
       "      <td>231.868319</td>\n",
       "      <td>132.98</td>\n",
       "      <td>78.45</td>\n",
       "    </tr>\n",
       "    <tr>\n",
       "      <th>4</th>\n",
       "      <td>Radius</td>\n",
       "      <td>10.6.1.101</td>\n",
       "      <td>246.801582</td>\n",
       "      <td>141.37</td>\n",
       "      <td>128.01</td>\n",
       "    </tr>\n",
       "    <tr>\n",
       "      <th>5</th>\n",
       "      <td>Radius</td>\n",
       "      <td>134.141.5.104</td>\n",
       "      <td>453.165254</td>\n",
       "      <td>310.15</td>\n",
       "      <td>133.33</td>\n",
       "    </tr>\n",
       "    <tr>\n",
       "      <th>6</th>\n",
       "      <td>Kerberos</td>\n",
       "      <td>10.6.1.101</td>\n",
       "      <td>21.677883</td>\n",
       "      <td>20.99</td>\n",
       "      <td>29.38</td>\n",
       "    </tr>\n",
       "    <tr>\n",
       "      <th>7</th>\n",
       "      <td>Kerberos</td>\n",
       "      <td>134.141.5.104</td>\n",
       "      <td>82.133054</td>\n",
       "      <td>32.73</td>\n",
       "      <td>28.69</td>\n",
       "    </tr>\n",
       "    <tr>\n",
       "      <th>8</th>\n",
       "      <td>LDAP</td>\n",
       "      <td>10.6.1.101</td>\n",
       "      <td>19.043158</td>\n",
       "      <td>31.93</td>\n",
       "      <td>29.24</td>\n",
       "    </tr>\n",
       "    <tr>\n",
       "      <th>9</th>\n",
       "      <td>LDAP</td>\n",
       "      <td>134.141.5.104</td>\n",
       "      <td>16.693480</td>\n",
       "      <td>35.95</td>\n",
       "      <td>22.86</td>\n",
       "    </tr>\n",
       "  </tbody>\n",
       "</table>\n",
       "</div>"
      ],
      "text/plain": [
       "  application         source  prophet_mape  lstm_mape  xgb_mape\n",
       "0         DNS     10.6.1.101      9.901298      13.59     15.33\n",
       "1         DNS  134.141.5.104    167.166154     129.03     57.71\n",
       "2        DHCP     10.6.1.101     22.045480      23.65     25.32\n",
       "3        DHCP  134.141.5.104    231.868319     132.98     78.45\n",
       "4      Radius     10.6.1.101    246.801582     141.37    128.01\n",
       "5      Radius  134.141.5.104    453.165254     310.15    133.33\n",
       "6    Kerberos     10.6.1.101     21.677883      20.99     29.38\n",
       "7    Kerberos  134.141.5.104     82.133054      32.73     28.69\n",
       "8        LDAP     10.6.1.101     19.043158      31.93     29.24\n",
       "9        LDAP  134.141.5.104     16.693480      35.95     22.86"
      ]
     },
     "execution_count": 47,
     "metadata": {},
     "output_type": "execute_result"
    }
   ],
   "source": [
    "mape_analysis_df = pd.DataFrame()\n",
    "mape_analysis_df['application']=prophet_analysis_df_full.application\n",
    "\n",
    "l=[]\n",
    "for i in range(0,5):\n",
    "    l.append('10.6.1.101')\n",
    "    l.append('134.141.5.104')\n",
    "\n",
    "mape_analysis_df['source'] = l\n",
    "mape_analysis_df.index = range(len(mape_analysis_df))\n",
    "prophet_analysis_df_full.index = range(len(prophet_analysis_df_full))\n",
    "mape_analysis_df['prophet_mape'] = prophet_analysis_df_full.test_mape\n",
    "lstm_analysis_df_full.index = range(len(lstm_analysis_df_full))\n",
    "mape_analysis_df['lstm_mape'] = lstm_analysis_df_full.test_mape\n",
    "xgb_analysis_df_full.index = range(len(xgb_analysis_df_full))\n",
    "mape_analysis_df['xgb_mape'] = xgb_analysis_df_full.test_mape\n",
    "\n",
    "mape_analysis_df"
   ]
  },
  {
   "cell_type": "code",
   "execution_count": 48,
   "metadata": {},
   "outputs": [
    {
     "data": {
      "text/plain": [
       "count     10.000000\n",
       "mean     127.049566\n",
       "std      147.196923\n",
       "min        9.901298\n",
       "25%       19.701839\n",
       "50%       52.089267\n",
       "75%      215.692778\n",
       "max      453.165254\n",
       "Name: prophet_mape, dtype: float64"
      ]
     },
     "execution_count": 48,
     "metadata": {},
     "output_type": "execute_result"
    }
   ],
   "source": [
    "mape_analysis_df.prophet_mape.describe()"
   ]
  },
  {
   "cell_type": "code",
   "execution_count": 49,
   "metadata": {},
   "outputs": [
    {
     "data": {
      "text/plain": [
       "count     10.000000\n",
       "mean      87.237000\n",
       "std       93.675415\n",
       "min       13.590000\n",
       "25%       25.720000\n",
       "50%       34.340000\n",
       "75%      131.992500\n",
       "max      310.150000\n",
       "Name: lstm_mape, dtype: float64"
      ]
     },
     "execution_count": 49,
     "metadata": {},
     "output_type": "execute_result"
    }
   ],
   "source": [
    "mape_analysis_df.lstm_mape.describe()"
   ]
  },
  {
   "cell_type": "code",
   "execution_count": 50,
   "metadata": {},
   "outputs": [
    {
     "data": {
      "text/plain": [
       "count     10.000000\n",
       "mean      54.832000\n",
       "std       44.124549\n",
       "min       15.330000\n",
       "25%       26.162500\n",
       "50%       29.310000\n",
       "75%       73.265000\n",
       "max      133.330000\n",
       "Name: xgb_mape, dtype: float64"
      ]
     },
     "execution_count": 50,
     "metadata": {},
     "output_type": "execute_result"
    }
   ],
   "source": [
    "mape_analysis_df.xgb_mape.describe()"
   ]
  },
  {
   "cell_type": "markdown",
   "metadata": {},
   "source": [
    "#### runtime"
   ]
  },
  {
   "cell_type": "code",
   "execution_count": 51,
   "metadata": {},
   "outputs": [
    {
     "data": {
      "text/html": [
       "<div>\n",
       "<style scoped>\n",
       "    .dataframe tbody tr th:only-of-type {\n",
       "        vertical-align: middle;\n",
       "    }\n",
       "\n",
       "    .dataframe tbody tr th {\n",
       "        vertical-align: top;\n",
       "    }\n",
       "\n",
       "    .dataframe thead th {\n",
       "        text-align: right;\n",
       "    }\n",
       "</style>\n",
       "<table border=\"1\" class=\"dataframe\">\n",
       "  <thead>\n",
       "    <tr style=\"text-align: right;\">\n",
       "      <th></th>\n",
       "      <th>model</th>\n",
       "      <th>runtime_for_10_combination</th>\n",
       "    </tr>\n",
       "  </thead>\n",
       "  <tbody>\n",
       "    <tr>\n",
       "      <th>0</th>\n",
       "      <td>prophet</td>\n",
       "      <td>3.18 min</td>\n",
       "    </tr>\n",
       "    <tr>\n",
       "      <th>1</th>\n",
       "      <td>lstm</td>\n",
       "      <td>5.41 min</td>\n",
       "    </tr>\n",
       "    <tr>\n",
       "      <th>2</th>\n",
       "      <td>xgb</td>\n",
       "      <td>9.25 min</td>\n",
       "    </tr>\n",
       "  </tbody>\n",
       "</table>\n",
       "</div>"
      ],
      "text/plain": [
       "     model runtime_for_10_combination\n",
       "0  prophet                   3.18 min\n",
       "1     lstm                   5.41 min\n",
       "2      xgb                   9.25 min"
      ]
     },
     "execution_count": 51,
     "metadata": {},
     "output_type": "execute_result"
    }
   ],
   "source": [
    "runtime_analysis_df = pd.DataFrame({'model':['prophet','lstm','xgb'],\n",
    "                                    'runtime_for_10_combination':['3.18 min','5.41 min','9.25 min']})\n",
    "\n",
    "runtime_analysis_df\n"
   ]
  },
  {
   "cell_type": "code",
   "execution_count": null,
   "metadata": {},
   "outputs": [],
   "source": []
  }
 ],
 "metadata": {
  "kernelspec": {
   "display_name": "Python 3",
   "language": "python",
   "name": "python3"
  },
  "language_info": {
   "codemirror_mode": {
    "name": "ipython",
    "version": 3
   },
   "file_extension": ".py",
   "mimetype": "text/x-python",
   "name": "python",
   "nbconvert_exporter": "python",
   "pygments_lexer": "ipython3",
   "version": "3.6.5"
  }
 },
 "nbformat": 4,
 "nbformat_minor": 2
}
